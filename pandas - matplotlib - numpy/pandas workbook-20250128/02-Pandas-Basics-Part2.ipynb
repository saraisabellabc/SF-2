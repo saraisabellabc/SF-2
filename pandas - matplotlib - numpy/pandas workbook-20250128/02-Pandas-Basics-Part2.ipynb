{
 "cells": [
  {
   "cell_type": "markdown",
   "metadata": {},
   "source": [
    "# Pandas Basics — Part 2"
   ]
  },
  {
   "cell_type": "markdown",
   "metadata": {},
   "source": [
    "*Note: You can explore the [associated workbook](https://mybinder.org/v2/gh/melaniewalsh/Intro-Cultural-Analytics/master?urlpath=lab/tree/book/03-Data-Analysis/workbooks/02.5-Pandas-Basics-Part2-WORKBOOK.ipynb) for this chapter in the cloud.*"
   ]
  },
  {
   "cell_type": "markdown",
   "metadata": {},
   "source": [
    "In this lesson, we're going to introduce some more fundamentals of [Pandas](https://pandas.pydata.org/pandas-docs/stable/getting_started/overview.html), a powerful Python library for working with tabular data like CSV files.\n",
    "\n",
    "We will review skills learned from the last lesson and introduce how to:\n",
    "\n",
    "* Broadly examine data\n",
    "* Work with missing data\n",
    "* Rename, drop, and add new columns\n",
    "* Perform mathematical calculations\n",
    "* Aggregate subsets of data\n",
    "* Make a simple time series"
   ]
  },
  {
   "cell_type": "markdown",
   "metadata": {},
   "source": [
    "___"
   ]
  },
  {
   "cell_type": "markdown",
   "metadata": {},
   "source": [
    "## Dataset\n",
    "### The Trans-Atlantic Slave Trade Database"
   ]
  },
  {
   "cell_type": "markdown",
   "metadata": {},
   "source": [
    "<blockquote class=\"epigraph\" style=\" padding: 10px\">\n",
    "\n",
    "[D]isplaying data alone could not and did not offer the atonement descendants of slaves\n",
    "sought or capture the inhumanity of this archive’s formation.\n",
    "\n",
    "-Jessica Marie Johnson, <a href=\"https://read.dukeupress.edu/social-text/article/36/4%20(137)/57/137032/Markup-BodiesBlack-Life-Studies-and-Slavery-Death\">“Markup Bodies”</a>\n",
    "\n",
    "</blockquote>\n"
   ]
  },
  {
   "cell_type": "markdown",
   "metadata": {},
   "source": [
    "The dataset that we're going to be working with in this lesson is taken from [The Trans-Atlantic Slave Trade Database](https://www.slavevoyages.org/voyage/database), part of the [*Slave Voyages* project](https://www.slavevoyages.org/). The larger database includes information about 35,000 slave-trading voyages from 1514-1866. The dataset we're working with here was filtered to include the 20,000 voyages that landed in the Americas. The data was filtered to also include the percentage of enslaved men, women, and children on the voyages."
   ]
  },
  {
   "cell_type": "markdown",
   "metadata": {},
   "source": [
    "We're working with this data for a number of reasons. The *Slave Voyages* project is a major data-driven contribution to the history of slavery and to the field of the digital humanities. Before the Trans-Atlantic Slave Trade Database, as DH scholar Jessica Johnson [writes,](https://read.dukeupress.edu/social-text/article-abstract/36/4%20(137)/57/137032/Markup-BodiesBlack-Life-Studies-and-Slavery-Death?redirectedFrom=fulltext) \"historians assumed enslaved women and children played a negligible role in the slave trade.\" But evidence from the Trans-Atlantic Slave Trade Database suggested otherwise. \"The existence of the Trans-Atlantic Slave Trade Database immediately reshaped debates about numbers of women and children exported from the continent,\" Johnson says, \"influencing work on women in the slave trade on the African coast, slavery in African societies, and women in the slave trade to the Americas.\"\n",
    "\n",
    "Though the Trans-Atlantic Slave Trade Database helped shed new light on the roles of enslaved women and children, Johnson makes clear that it was not computation or data alone that shed this light: \n",
    "> [D]isplaying data alone could not and did not offer the atonement descendants of slaves sought or capture the inhumanity of this archive’s formation. Culling the lives of women and children from the data set required approaching the data with intention. It required a methodology attuned to black life and to dismantling the methods used to create the manifests in the first place, then designing and launching an interface responsive to the desire of descendants of slaves for reparation and redress.\n",
    "\n",
    "In this spirit, we want to think about how responsible data analysis requires more than just data and technical tools like Pandas. It requires approaching data with intention and developing methodologies geared toward justice. This is especially necessary when dealing with data that records and perpetrates violence like the Trans-Atlantic Slave Trade Database."
   ]
  },
  {
   "cell_type": "markdown",
   "metadata": {},
   "source": [
    "___"
   ]
  },
  {
   "cell_type": "markdown",
   "metadata": {},
   "source": [
    "**Import Pandas**"
   ]
  },
  {
   "cell_type": "code",
   "execution_count": 1,
   "metadata": {},
   "outputs": [],
   "source": [
    "import pandas as pd"
   ]
  },
  {
   "cell_type": "markdown",
   "metadata": {},
   "source": [
    "**Set Display Settings**"
   ]
  },
  {
   "cell_type": "markdown",
   "metadata": {},
   "source": [
    "By default, Pandas will display 60 rows and 20 columns. "
   ]
  },
  {
   "cell_type": "code",
   "execution_count": 2,
   "metadata": {},
   "outputs": [],
   "source": [
    "pd.options.display.max_rows = 100"
   ]
  },
  {
   "cell_type": "markdown",
   "metadata": {},
   "source": [
    "**Read in CSV File**"
   ]
  },
  {
   "cell_type": "markdown",
   "metadata": {},
   "source": [
    "```{tip} \n",
    "If you use the `help()` function, you can see the documentation for almost any bit of code. If we run it on `pd.read_csv()`, we can see all the possible parameters that can be used with `pd.read_csv()`.\n",
    "help(pd.read_csv)\n",
    "```"
   ]
  },
  {
   "cell_type": "code",
   "execution_count": 4,
   "metadata": {},
   "outputs": [],
   "source": [
    "slave_voyages_df = pd.read_csv('Trans-Atlantic-Slave-Trade_Americas.csv', delimiter=\",\", encoding='utf-8')"
   ]
  },
  {
   "cell_type": "markdown",
   "metadata": {},
   "source": [
    "When reading in the CSV file, we also specified the `encoding` and `delimiter`. The `delimiter` specifies the character that separates or \"delimits\" the columns in our dataset. For CSV files, the delimiter will most often be a comma. (CSV is short for *Comma Separated Values*.) Sometimes, however, the delimiter of a CSV file might be a tab (`\\t`) or, more rarely, another character."
   ]
  },
  {
   "cell_type": "markdown",
   "metadata": {},
   "source": [
    "**Display Data**"
   ]
  },
  {
   "cell_type": "code",
   "execution_count": 5,
   "metadata": {},
   "outputs": [
    {
     "data": {
      "text/html": [
       "<div>\n",
       "<style scoped>\n",
       "    .dataframe tbody tr th:only-of-type {\n",
       "        vertical-align: middle;\n",
       "    }\n",
       "\n",
       "    .dataframe tbody tr th {\n",
       "        vertical-align: top;\n",
       "    }\n",
       "\n",
       "    .dataframe thead th {\n",
       "        text-align: right;\n",
       "    }\n",
       "</style>\n",
       "<table border=\"1\" class=\"dataframe\">\n",
       "  <thead>\n",
       "    <tr style=\"text-align: right;\">\n",
       "      <th></th>\n",
       "      <th>year_of_arrival</th>\n",
       "      <th>flag</th>\n",
       "      <th>place_of_purchase</th>\n",
       "      <th>place_of_landing</th>\n",
       "      <th>percent_women</th>\n",
       "      <th>percent_children</th>\n",
       "      <th>percent_men</th>\n",
       "      <th>total_embarked</th>\n",
       "      <th>total_disembarked</th>\n",
       "      <th>resistance_label</th>\n",
       "      <th>vessel_name</th>\n",
       "      <th>captain's_name</th>\n",
       "      <th>voyage_id</th>\n",
       "      <th>sources</th>\n",
       "    </tr>\n",
       "  </thead>\n",
       "  <tbody>\n",
       "    <tr>\n",
       "      <th>0</th>\n",
       "      <td>1520</td>\n",
       "      <td>NaN</td>\n",
       "      <td>Portuguese Guinea</td>\n",
       "      <td>San Juan</td>\n",
       "      <td>NaN</td>\n",
       "      <td>NaN</td>\n",
       "      <td>NaN</td>\n",
       "      <td>324.0</td>\n",
       "      <td>259.0</td>\n",
       "      <td>NaN</td>\n",
       "      <td></td>\n",
       "      <td>NaN</td>\n",
       "      <td>42987</td>\n",
       "      <td>[u'AGI,Patronato 175, r.9&lt;&gt;&lt;p&gt;&lt;em&gt;AG!&lt;/em&gt; (Se...</td>\n",
       "    </tr>\n",
       "    <tr>\n",
       "      <th>1</th>\n",
       "      <td>1525</td>\n",
       "      <td>Portugal / Brazil</td>\n",
       "      <td>Sao Tome</td>\n",
       "      <td>Hispaniola, unspecified</td>\n",
       "      <td>NaN</td>\n",
       "      <td>NaN</td>\n",
       "      <td>NaN</td>\n",
       "      <td>359.0</td>\n",
       "      <td>287.0</td>\n",
       "      <td>NaN</td>\n",
       "      <td>S Maria de Bogoña</td>\n",
       "      <td>Monteiro, Pero</td>\n",
       "      <td>46473</td>\n",
       "      <td>[u'ANTT,CC,Parte II, maco 131, doc 54&lt;&gt;&lt;i&gt;Inst...</td>\n",
       "    </tr>\n",
       "    <tr>\n",
       "      <th>2</th>\n",
       "      <td>1526</td>\n",
       "      <td>Spain / Uruguay</td>\n",
       "      <td>Cape Verde Islands</td>\n",
       "      <td>Cuba, port unspecified</td>\n",
       "      <td>NaN</td>\n",
       "      <td>NaN</td>\n",
       "      <td>NaN</td>\n",
       "      <td>359.0</td>\n",
       "      <td>287.0</td>\n",
       "      <td>NaN</td>\n",
       "      <td></td>\n",
       "      <td>Carega, Esteban (?)</td>\n",
       "      <td>11297</td>\n",
       "      <td>[u'Pike,60-1,172&lt;&gt;Pike, Ruth, &lt;i&gt;Enterprise&lt;/i...</td>\n",
       "    </tr>\n",
       "    <tr>\n",
       "      <th>3</th>\n",
       "      <td>1526</td>\n",
       "      <td>Spain / Uruguay</td>\n",
       "      <td>Cape Verde Islands</td>\n",
       "      <td>Cuba, port unspecified</td>\n",
       "      <td>NaN</td>\n",
       "      <td>NaN</td>\n",
       "      <td>NaN</td>\n",
       "      <td>359.0</td>\n",
       "      <td>287.0</td>\n",
       "      <td>NaN</td>\n",
       "      <td></td>\n",
       "      <td>Carega, Esteban (?)</td>\n",
       "      <td>11298</td>\n",
       "      <td>[u'Pike,60-1,172&lt;&gt;Pike, Ruth, &lt;i&gt;Enterprise&lt;/i...</td>\n",
       "    </tr>\n",
       "    <tr>\n",
       "      <th>4</th>\n",
       "      <td>1526</td>\n",
       "      <td>NaN</td>\n",
       "      <td>Cape Verde Islands</td>\n",
       "      <td>Caribbean (colony unspecified)</td>\n",
       "      <td>NaN</td>\n",
       "      <td>NaN</td>\n",
       "      <td>NaN</td>\n",
       "      <td>359.0</td>\n",
       "      <td>287.0</td>\n",
       "      <td>NaN</td>\n",
       "      <td>S Anton</td>\n",
       "      <td>Leon, Juan de</td>\n",
       "      <td>42631</td>\n",
       "      <td>[u'Chaunus, 3: 162-63&lt;&gt;&lt;p&gt;Chaunus, &lt;em&gt;xxxxxx&lt;...</td>\n",
       "    </tr>\n",
       "    <tr>\n",
       "      <th>...</th>\n",
       "      <td>...</td>\n",
       "      <td>...</td>\n",
       "      <td>...</td>\n",
       "      <td>...</td>\n",
       "      <td>...</td>\n",
       "      <td>...</td>\n",
       "      <td>...</td>\n",
       "      <td>...</td>\n",
       "      <td>...</td>\n",
       "      <td>...</td>\n",
       "      <td>...</td>\n",
       "      <td>...</td>\n",
       "      <td>...</td>\n",
       "      <td>...</td>\n",
       "    </tr>\n",
       "    <tr>\n",
       "      <th>20736</th>\n",
       "      <td>1864</td>\n",
       "      <td>Spain / Uruguay</td>\n",
       "      <td>Africa., port unspecified</td>\n",
       "      <td>Cuba, port unspecified</td>\n",
       "      <td>NaN</td>\n",
       "      <td>NaN</td>\n",
       "      <td>NaN</td>\n",
       "      <td>488.0</td>\n",
       "      <td>465.0</td>\n",
       "      <td>NaN</td>\n",
       "      <td>Polaca</td>\n",
       "      <td>NaN</td>\n",
       "      <td>46554</td>\n",
       "      <td>[u'AHNM, Ultramar, Leg. 3551, 6&lt;&gt;&lt;i&gt;Archivo Hi...</td>\n",
       "    </tr>\n",
       "    <tr>\n",
       "      <th>20737</th>\n",
       "      <td>1865</td>\n",
       "      <td>Spain / Uruguay</td>\n",
       "      <td>Africa., port unspecified</td>\n",
       "      <td>Isla de Pinas</td>\n",
       "      <td>NaN</td>\n",
       "      <td>NaN</td>\n",
       "      <td>NaN</td>\n",
       "      <td>152.0</td>\n",
       "      <td>145.0</td>\n",
       "      <td>Slave insurrection</td>\n",
       "      <td>Gato</td>\n",
       "      <td>NaN</td>\n",
       "      <td>4394</td>\n",
       "      <td>[u'IUP,ST,50/B/137&lt;&gt;Great Britain, &lt;i&gt;Irish Un...</td>\n",
       "    </tr>\n",
       "    <tr>\n",
       "      <th>20738</th>\n",
       "      <td>1865</td>\n",
       "      <td>NaN</td>\n",
       "      <td>Africa., port unspecified</td>\n",
       "      <td>Mariel</td>\n",
       "      <td>NaN</td>\n",
       "      <td>NaN</td>\n",
       "      <td>NaN</td>\n",
       "      <td>780.0</td>\n",
       "      <td>650.0</td>\n",
       "      <td>NaN</td>\n",
       "      <td></td>\n",
       "      <td>NaN</td>\n",
       "      <td>4395</td>\n",
       "      <td>[u'IUP,ST,50/B/144&lt;&gt;Great Britain, &lt;i&gt;Irish Un...</td>\n",
       "    </tr>\n",
       "    <tr>\n",
       "      <th>20739</th>\n",
       "      <td>1865</td>\n",
       "      <td>NaN</td>\n",
       "      <td>Congo River</td>\n",
       "      <td>Cuba, port unspecified</td>\n",
       "      <td>NaN</td>\n",
       "      <td>NaN</td>\n",
       "      <td>NaN</td>\n",
       "      <td>1265.0</td>\n",
       "      <td>1004.0</td>\n",
       "      <td>NaN</td>\n",
       "      <td>Cicerón</td>\n",
       "      <td>Mesquita</td>\n",
       "      <td>5052</td>\n",
       "      <td>[u'IUP,ST,50/A/23-4&lt;&gt;Great Britain, &lt;i&gt;Irish U...</td>\n",
       "    </tr>\n",
       "    <tr>\n",
       "      <th>20740</th>\n",
       "      <td>1866</td>\n",
       "      <td>NaN</td>\n",
       "      <td>Africa., port unspecified</td>\n",
       "      <td>Cuba, port unspecified</td>\n",
       "      <td>NaN</td>\n",
       "      <td>NaN</td>\n",
       "      <td>NaN</td>\n",
       "      <td>851.0</td>\n",
       "      <td>700.0</td>\n",
       "      <td>NaN</td>\n",
       "      <td></td>\n",
       "      <td>NaN</td>\n",
       "      <td>4998</td>\n",
       "      <td>[u'IUP,ST,50/B/220&lt;&gt;Great Britain, &lt;i&gt;Irish Un...</td>\n",
       "    </tr>\n",
       "  </tbody>\n",
       "</table>\n",
       "<p>20741 rows × 14 columns</p>\n",
       "</div>"
      ],
      "text/plain": [
       "       year_of_arrival               flag          place_of_purchase  \\\n",
       "0                 1520                NaN          Portuguese Guinea   \n",
       "1                 1525  Portugal / Brazil                   Sao Tome   \n",
       "2                 1526    Spain / Uruguay         Cape Verde Islands   \n",
       "3                 1526    Spain / Uruguay         Cape Verde Islands   \n",
       "4                 1526                NaN         Cape Verde Islands   \n",
       "...                ...                ...                        ...   \n",
       "20736             1864    Spain / Uruguay  Africa., port unspecified   \n",
       "20737             1865    Spain / Uruguay  Africa., port unspecified   \n",
       "20738             1865                NaN  Africa., port unspecified   \n",
       "20739             1865                NaN                Congo River   \n",
       "20740             1866                NaN  Africa., port unspecified   \n",
       "\n",
       "                     place_of_landing  percent_women  percent_children  \\\n",
       "0                            San Juan            NaN               NaN   \n",
       "1             Hispaniola, unspecified            NaN               NaN   \n",
       "2              Cuba, port unspecified            NaN               NaN   \n",
       "3              Cuba, port unspecified            NaN               NaN   \n",
       "4      Caribbean (colony unspecified)            NaN               NaN   \n",
       "...                               ...            ...               ...   \n",
       "20736          Cuba, port unspecified            NaN               NaN   \n",
       "20737                   Isla de Pinas            NaN               NaN   \n",
       "20738                          Mariel            NaN               NaN   \n",
       "20739          Cuba, port unspecified            NaN               NaN   \n",
       "20740          Cuba, port unspecified            NaN               NaN   \n",
       "\n",
       "       percent_men  total_embarked  total_disembarked    resistance_label  \\\n",
       "0              NaN           324.0              259.0                 NaN   \n",
       "1              NaN           359.0              287.0                 NaN   \n",
       "2              NaN           359.0              287.0                 NaN   \n",
       "3              NaN           359.0              287.0                 NaN   \n",
       "4              NaN           359.0              287.0                 NaN   \n",
       "...            ...             ...                ...                 ...   \n",
       "20736          NaN           488.0              465.0                 NaN   \n",
       "20737          NaN           152.0              145.0  Slave insurrection   \n",
       "20738          NaN           780.0              650.0                 NaN   \n",
       "20739          NaN          1265.0             1004.0                 NaN   \n",
       "20740          NaN           851.0              700.0                 NaN   \n",
       "\n",
       "             vessel_name       captain's_name  voyage_id  \\\n",
       "0                                         NaN      42987   \n",
       "1      S Maria de Bogoña       Monteiro, Pero      46473   \n",
       "2                         Carega, Esteban (?)      11297   \n",
       "3                         Carega, Esteban (?)      11298   \n",
       "4                S Anton        Leon, Juan de      42631   \n",
       "...                  ...                  ...        ...   \n",
       "20736             Polaca                  NaN      46554   \n",
       "20737               Gato                  NaN       4394   \n",
       "20738                                     NaN       4395   \n",
       "20739            Cicerón             Mesquita       5052   \n",
       "20740                                     NaN       4998   \n",
       "\n",
       "                                                 sources  \n",
       "0      [u'AGI,Patronato 175, r.9<><p><em>AG!</em> (Se...  \n",
       "1      [u'ANTT,CC,Parte II, maco 131, doc 54<><i>Inst...  \n",
       "2      [u'Pike,60-1,172<>Pike, Ruth, <i>Enterprise</i...  \n",
       "3      [u'Pike,60-1,172<>Pike, Ruth, <i>Enterprise</i...  \n",
       "4      [u'Chaunus, 3: 162-63<><p>Chaunus, <em>xxxxxx<...  \n",
       "...                                                  ...  \n",
       "20736  [u'AHNM, Ultramar, Leg. 3551, 6<><i>Archivo Hi...  \n",
       "20737  [u'IUP,ST,50/B/137<>Great Britain, <i>Irish Un...  \n",
       "20738  [u'IUP,ST,50/B/144<>Great Britain, <i>Irish Un...  \n",
       "20739  [u'IUP,ST,50/A/23-4<>Great Britain, <i>Irish U...  \n",
       "20740  [u'IUP,ST,50/B/220<>Great Britain, <i>Irish Un...  \n",
       "\n",
       "[20741 rows x 14 columns]"
      ]
     },
     "execution_count": 5,
     "metadata": {},
     "output_type": "execute_result"
    }
   ],
   "source": [
    "slave_voyages_df "
   ]
  },
  {
   "cell_type": "markdown",
   "metadata": {},
   "source": [
    "There are a few important things to note about the DataFrame displayed here:\n",
    "\n",
    "* Index\n",
    "    * The bolded ascending numbers in the very left-hand column of the DataFrame is called the Pandas *Index*. You can select rows based on the Index.\n",
    "    * By default, the Index is a sequence of numbers starting with zero. However, you can change the Index to something else, such as one of the columns in your dataset.\n",
    "\n",
    "* Truncation\n",
    "    * The DataFrame is truncated, signaled by the ellipses in the middle `...` of every column.\n",
    "    * The DataFrame is truncated because we set our default display settings to 100 rows. Anything more than 100 rows will be truncated. To display all the rows, we would need to alter Pandas' default display settings yet again.\n",
    "\n",
    "* Rows x Columns\n",
    "    * Pandas reports how many rows and columns are in this dataset at the bottom of the output (20,741 x 14 columns)."
   ]
  },
  {
   "cell_type": "markdown",
   "metadata": {},
   "source": [
    "**Display First *n* Rows**"
   ]
  },
  {
   "cell_type": "code",
   "execution_count": 6,
   "metadata": {},
   "outputs": [
    {
     "data": {
      "text/html": [
       "<div>\n",
       "<style scoped>\n",
       "    .dataframe tbody tr th:only-of-type {\n",
       "        vertical-align: middle;\n",
       "    }\n",
       "\n",
       "    .dataframe tbody tr th {\n",
       "        vertical-align: top;\n",
       "    }\n",
       "\n",
       "    .dataframe thead th {\n",
       "        text-align: right;\n",
       "    }\n",
       "</style>\n",
       "<table border=\"1\" class=\"dataframe\">\n",
       "  <thead>\n",
       "    <tr style=\"text-align: right;\">\n",
       "      <th></th>\n",
       "      <th>year_of_arrival</th>\n",
       "      <th>flag</th>\n",
       "      <th>place_of_purchase</th>\n",
       "      <th>place_of_landing</th>\n",
       "      <th>percent_women</th>\n",
       "      <th>percent_children</th>\n",
       "      <th>percent_men</th>\n",
       "      <th>total_embarked</th>\n",
       "      <th>total_disembarked</th>\n",
       "      <th>resistance_label</th>\n",
       "      <th>vessel_name</th>\n",
       "      <th>captain's_name</th>\n",
       "      <th>voyage_id</th>\n",
       "      <th>sources</th>\n",
       "    </tr>\n",
       "  </thead>\n",
       "  <tbody>\n",
       "    <tr>\n",
       "      <th>0</th>\n",
       "      <td>1520</td>\n",
       "      <td>NaN</td>\n",
       "      <td>Portuguese Guinea</td>\n",
       "      <td>San Juan</td>\n",
       "      <td>NaN</td>\n",
       "      <td>NaN</td>\n",
       "      <td>NaN</td>\n",
       "      <td>324.0</td>\n",
       "      <td>259.0</td>\n",
       "      <td>NaN</td>\n",
       "      <td></td>\n",
       "      <td>NaN</td>\n",
       "      <td>42987</td>\n",
       "      <td>[u'AGI,Patronato 175, r.9&lt;&gt;&lt;p&gt;&lt;em&gt;AG!&lt;/em&gt; (Se...</td>\n",
       "    </tr>\n",
       "    <tr>\n",
       "      <th>1</th>\n",
       "      <td>1525</td>\n",
       "      <td>Portugal / Brazil</td>\n",
       "      <td>Sao Tome</td>\n",
       "      <td>Hispaniola, unspecified</td>\n",
       "      <td>NaN</td>\n",
       "      <td>NaN</td>\n",
       "      <td>NaN</td>\n",
       "      <td>359.0</td>\n",
       "      <td>287.0</td>\n",
       "      <td>NaN</td>\n",
       "      <td>S Maria de Bogoña</td>\n",
       "      <td>Monteiro, Pero</td>\n",
       "      <td>46473</td>\n",
       "      <td>[u'ANTT,CC,Parte II, maco 131, doc 54&lt;&gt;&lt;i&gt;Inst...</td>\n",
       "    </tr>\n",
       "    <tr>\n",
       "      <th>2</th>\n",
       "      <td>1526</td>\n",
       "      <td>Spain / Uruguay</td>\n",
       "      <td>Cape Verde Islands</td>\n",
       "      <td>Cuba, port unspecified</td>\n",
       "      <td>NaN</td>\n",
       "      <td>NaN</td>\n",
       "      <td>NaN</td>\n",
       "      <td>359.0</td>\n",
       "      <td>287.0</td>\n",
       "      <td>NaN</td>\n",
       "      <td></td>\n",
       "      <td>Carega, Esteban (?)</td>\n",
       "      <td>11297</td>\n",
       "      <td>[u'Pike,60-1,172&lt;&gt;Pike, Ruth, &lt;i&gt;Enterprise&lt;/i...</td>\n",
       "    </tr>\n",
       "    <tr>\n",
       "      <th>3</th>\n",
       "      <td>1526</td>\n",
       "      <td>Spain / Uruguay</td>\n",
       "      <td>Cape Verde Islands</td>\n",
       "      <td>Cuba, port unspecified</td>\n",
       "      <td>NaN</td>\n",
       "      <td>NaN</td>\n",
       "      <td>NaN</td>\n",
       "      <td>359.0</td>\n",
       "      <td>287.0</td>\n",
       "      <td>NaN</td>\n",
       "      <td></td>\n",
       "      <td>Carega, Esteban (?)</td>\n",
       "      <td>11298</td>\n",
       "      <td>[u'Pike,60-1,172&lt;&gt;Pike, Ruth, &lt;i&gt;Enterprise&lt;/i...</td>\n",
       "    </tr>\n",
       "    <tr>\n",
       "      <th>4</th>\n",
       "      <td>1526</td>\n",
       "      <td>NaN</td>\n",
       "      <td>Cape Verde Islands</td>\n",
       "      <td>Caribbean (colony unspecified)</td>\n",
       "      <td>NaN</td>\n",
       "      <td>NaN</td>\n",
       "      <td>NaN</td>\n",
       "      <td>359.0</td>\n",
       "      <td>287.0</td>\n",
       "      <td>NaN</td>\n",
       "      <td>S Anton</td>\n",
       "      <td>Leon, Juan de</td>\n",
       "      <td>42631</td>\n",
       "      <td>[u'Chaunus, 3: 162-63&lt;&gt;&lt;p&gt;Chaunus, &lt;em&gt;xxxxxx&lt;...</td>\n",
       "    </tr>\n",
       "    <tr>\n",
       "      <th>5</th>\n",
       "      <td>1526</td>\n",
       "      <td>NaN</td>\n",
       "      <td>Cape Verde Islands</td>\n",
       "      <td>San Domingo (a) Santo Domingo</td>\n",
       "      <td>NaN</td>\n",
       "      <td>NaN</td>\n",
       "      <td>NaN</td>\n",
       "      <td>359.0</td>\n",
       "      <td>287.0</td>\n",
       "      <td>NaN</td>\n",
       "      <td>Santa Maria de Guadalupe</td>\n",
       "      <td>Pabon, Francisco</td>\n",
       "      <td>42679</td>\n",
       "      <td>[u'Chaunus, 3: 162-63&lt;&gt;&lt;p&gt;Chaunus, &lt;em&gt;xxxxxx&lt;...</td>\n",
       "    </tr>\n",
       "    <tr>\n",
       "      <th>6</th>\n",
       "      <td>1526</td>\n",
       "      <td>Portugal / Brazil</td>\n",
       "      <td>Sao Tome</td>\n",
       "      <td>Spanish Caribbean, unspecified</td>\n",
       "      <td>NaN</td>\n",
       "      <td>NaN</td>\n",
       "      <td>NaN</td>\n",
       "      <td>359.0</td>\n",
       "      <td>287.0</td>\n",
       "      <td>NaN</td>\n",
       "      <td></td>\n",
       "      <td>NaN</td>\n",
       "      <td>46474</td>\n",
       "      <td>[u'ANTT,CC,Parte II, maco 131, doc 54&lt;&gt;&lt;i&gt;Inst...</td>\n",
       "    </tr>\n",
       "    <tr>\n",
       "      <th>7</th>\n",
       "      <td>1527</td>\n",
       "      <td>Spain / Uruguay</td>\n",
       "      <td>Cape Verde Islands</td>\n",
       "      <td>Puerto Rico, port unspecified</td>\n",
       "      <td>NaN</td>\n",
       "      <td>NaN</td>\n",
       "      <td>NaN</td>\n",
       "      <td>325.0</td>\n",
       "      <td>260.0</td>\n",
       "      <td>NaN</td>\n",
       "      <td>Concepción</td>\n",
       "      <td>Díaz, Alonso</td>\n",
       "      <td>99027</td>\n",
       "      <td>[u'SuedBadillo,57,75,76&lt;&gt;&lt;p&gt;SuedBadillo, &lt;em&gt;x...</td>\n",
       "    </tr>\n",
       "    <tr>\n",
       "      <th>8</th>\n",
       "      <td>1532</td>\n",
       "      <td>Portugal / Brazil</td>\n",
       "      <td>Sao Tome</td>\n",
       "      <td>Spanish Caribbean, unspecified</td>\n",
       "      <td>NaN</td>\n",
       "      <td>NaN</td>\n",
       "      <td>NaN</td>\n",
       "      <td>359.0</td>\n",
       "      <td>287.0</td>\n",
       "      <td>NaN</td>\n",
       "      <td>S Antônio</td>\n",
       "      <td>Afonso, Martim</td>\n",
       "      <td>11293</td>\n",
       "      <td>[u'Ryder,66&lt;&gt;Ryder, A. F. C., &lt;i&gt;Benin&lt;/i&gt;&lt;i&gt; ...</td>\n",
       "    </tr>\n",
       "    <tr>\n",
       "      <th>9</th>\n",
       "      <td>1532</td>\n",
       "      <td>NaN</td>\n",
       "      <td>Cape Verde Islands</td>\n",
       "      <td>San Juan</td>\n",
       "      <td>NaN</td>\n",
       "      <td>NaN</td>\n",
       "      <td>NaN</td>\n",
       "      <td>25.0</td>\n",
       "      <td>20.0</td>\n",
       "      <td>NaN</td>\n",
       "      <td></td>\n",
       "      <td>de Illanes, Manuel</td>\n",
       "      <td>28994</td>\n",
       "      <td>[u'Tanodi, 321-22&lt;&gt;Tanodi, Aurelio, &lt;i&gt;Documen...</td>\n",
       "    </tr>\n",
       "  </tbody>\n",
       "</table>\n",
       "</div>"
      ],
      "text/plain": [
       "   year_of_arrival               flag   place_of_purchase  \\\n",
       "0             1520                NaN   Portuguese Guinea   \n",
       "1             1525  Portugal / Brazil            Sao Tome   \n",
       "2             1526    Spain / Uruguay  Cape Verde Islands   \n",
       "3             1526    Spain / Uruguay  Cape Verde Islands   \n",
       "4             1526                NaN  Cape Verde Islands   \n",
       "5             1526                NaN  Cape Verde Islands   \n",
       "6             1526  Portugal / Brazil            Sao Tome   \n",
       "7             1527    Spain / Uruguay  Cape Verde Islands   \n",
       "8             1532  Portugal / Brazil            Sao Tome   \n",
       "9             1532                NaN  Cape Verde Islands   \n",
       "\n",
       "                 place_of_landing  percent_women  percent_children  \\\n",
       "0                        San Juan            NaN               NaN   \n",
       "1         Hispaniola, unspecified            NaN               NaN   \n",
       "2          Cuba, port unspecified            NaN               NaN   \n",
       "3          Cuba, port unspecified            NaN               NaN   \n",
       "4  Caribbean (colony unspecified)            NaN               NaN   \n",
       "5   San Domingo (a) Santo Domingo            NaN               NaN   \n",
       "6  Spanish Caribbean, unspecified            NaN               NaN   \n",
       "7   Puerto Rico, port unspecified            NaN               NaN   \n",
       "8  Spanish Caribbean, unspecified            NaN               NaN   \n",
       "9                        San Juan            NaN               NaN   \n",
       "\n",
       "   percent_men  total_embarked  total_disembarked resistance_label  \\\n",
       "0          NaN           324.0              259.0              NaN   \n",
       "1          NaN           359.0              287.0              NaN   \n",
       "2          NaN           359.0              287.0              NaN   \n",
       "3          NaN           359.0              287.0              NaN   \n",
       "4          NaN           359.0              287.0              NaN   \n",
       "5          NaN           359.0              287.0              NaN   \n",
       "6          NaN           359.0              287.0              NaN   \n",
       "7          NaN           325.0              260.0              NaN   \n",
       "8          NaN           359.0              287.0              NaN   \n",
       "9          NaN            25.0               20.0              NaN   \n",
       "\n",
       "                vessel_name       captain's_name  voyage_id  \\\n",
       "0                                            NaN      42987   \n",
       "1         S Maria de Bogoña       Monteiro, Pero      46473   \n",
       "2                            Carega, Esteban (?)      11297   \n",
       "3                            Carega, Esteban (?)      11298   \n",
       "4                   S Anton        Leon, Juan de      42631   \n",
       "5  Santa Maria de Guadalupe     Pabon, Francisco      42679   \n",
       "6                                            NaN      46474   \n",
       "7                Concepción         Díaz, Alonso      99027   \n",
       "8                 S Antônio       Afonso, Martim      11293   \n",
       "9                             de Illanes, Manuel      28994   \n",
       "\n",
       "                                             sources  \n",
       "0  [u'AGI,Patronato 175, r.9<><p><em>AG!</em> (Se...  \n",
       "1  [u'ANTT,CC,Parte II, maco 131, doc 54<><i>Inst...  \n",
       "2  [u'Pike,60-1,172<>Pike, Ruth, <i>Enterprise</i...  \n",
       "3  [u'Pike,60-1,172<>Pike, Ruth, <i>Enterprise</i...  \n",
       "4  [u'Chaunus, 3: 162-63<><p>Chaunus, <em>xxxxxx<...  \n",
       "5  [u'Chaunus, 3: 162-63<><p>Chaunus, <em>xxxxxx<...  \n",
       "6  [u'ANTT,CC,Parte II, maco 131, doc 54<><i>Inst...  \n",
       "7  [u'SuedBadillo,57,75,76<><p>SuedBadillo, <em>x...  \n",
       "8  [u'Ryder,66<>Ryder, A. F. C., <i>Benin</i><i> ...  \n",
       "9  [u'Tanodi, 321-22<>Tanodi, Aurelio, <i>Documen...  "
      ]
     },
     "execution_count": 6,
     "metadata": {},
     "output_type": "execute_result"
    }
   ],
   "source": [
    "slave_voyages_df.head(10)"
   ]
  },
  {
   "cell_type": "markdown",
   "metadata": {},
   "source": [
    "## Examine Data"
   ]
  },
  {
   "cell_type": "markdown",
   "metadata": {},
   "source": [
    "### Shape"
   ]
  },
  {
   "cell_type": "markdown",
   "metadata": {},
   "source": [
    "To explicitly check for how many rows vs columns make up a dataset, we can use the `.shape` method."
   ]
  },
  {
   "cell_type": "code",
   "execution_count": 7,
   "metadata": {},
   "outputs": [
    {
     "data": {
      "text/plain": [
       "(20741, 14)"
      ]
     },
     "execution_count": 7,
     "metadata": {},
     "output_type": "execute_result"
    }
   ],
   "source": [
    "slave_voyages_df.shape"
   ]
  },
  {
   "cell_type": "markdown",
   "metadata": {},
   "source": [
    "There are 20,741 rows and 14 columns."
   ]
  },
  {
   "cell_type": "markdown",
   "metadata": {},
   "source": [
    "### Data Types"
   ]
  },
  {
   "cell_type": "code",
   "execution_count": 8,
   "metadata": {},
   "outputs": [
    {
     "data": {
      "text/plain": [
       "year_of_arrival        int64\n",
       "flag                  object\n",
       "place_of_purchase     object\n",
       "place_of_landing      object\n",
       "percent_women        float64\n",
       "percent_children     float64\n",
       "percent_men          float64\n",
       "total_embarked       float64\n",
       "total_disembarked    float64\n",
       "resistance_label      object\n",
       "vessel_name           object\n",
       "captain's_name        object\n",
       "voyage_id              int64\n",
       "sources               object\n",
       "dtype: object"
      ]
     },
     "execution_count": 8,
     "metadata": {},
     "output_type": "execute_result"
    }
   ],
   "source": [
    "slave_voyages_df.dtypes"
   ]
  },
  {
   "cell_type": "markdown",
   "metadata": {},
   "source": [
    "It's important to always check the data types in your DataFrame. For example, sometimes numeric values will accidentally be interpreted as a string object. To perform calculations on this data, you would need to first convert that column from a string to an integer."
   ]
  },
  {
   "cell_type": "markdown",
   "metadata": {},
   "source": [
    "### Columns"
   ]
  },
  {
   "cell_type": "markdown",
   "metadata": {},
   "source": [
    "We can also check the column names of the DataFrame with [`.columns`](https://pandas.pydata.org/pandas-docs/stable/reference/api/pandas.DataFrame.columns.html)"
   ]
  },
  {
   "cell_type": "code",
   "execution_count": 9,
   "metadata": {},
   "outputs": [
    {
     "data": {
      "text/plain": [
       "Index(['year_of_arrival', 'flag', 'place_of_purchase', 'place_of_landing',\n",
       "       'percent_women', 'percent_children', 'percent_men', 'total_embarked',\n",
       "       'total_disembarked', 'resistance_label', 'vessel_name',\n",
       "       'captain's_name', 'voyage_id', 'sources'],\n",
       "      dtype='object')"
      ]
     },
     "execution_count": 9,
     "metadata": {},
     "output_type": "execute_result"
    }
   ],
   "source": [
    "slave_voyages_df.columns"
   ]
  },
  {
   "cell_type": "markdown",
   "metadata": {},
   "source": [
    "### Summary Statistics"
   ]
  },
  {
   "cell_type": "code",
   "execution_count": 10,
   "metadata": {},
   "outputs": [
    {
     "data": {
      "text/html": [
       "<div>\n",
       "<style scoped>\n",
       "    .dataframe tbody tr th:only-of-type {\n",
       "        vertical-align: middle;\n",
       "    }\n",
       "\n",
       "    .dataframe tbody tr th {\n",
       "        vertical-align: top;\n",
       "    }\n",
       "\n",
       "    .dataframe thead th {\n",
       "        text-align: right;\n",
       "    }\n",
       "</style>\n",
       "<table border=\"1\" class=\"dataframe\">\n",
       "  <thead>\n",
       "    <tr style=\"text-align: right;\">\n",
       "      <th></th>\n",
       "      <th>year_of_arrival</th>\n",
       "      <th>flag</th>\n",
       "      <th>place_of_purchase</th>\n",
       "      <th>place_of_landing</th>\n",
       "      <th>percent_women</th>\n",
       "      <th>percent_children</th>\n",
       "      <th>percent_men</th>\n",
       "      <th>total_embarked</th>\n",
       "      <th>total_disembarked</th>\n",
       "      <th>resistance_label</th>\n",
       "      <th>vessel_name</th>\n",
       "      <th>captain's_name</th>\n",
       "      <th>voyage_id</th>\n",
       "      <th>sources</th>\n",
       "    </tr>\n",
       "  </thead>\n",
       "  <tbody>\n",
       "    <tr>\n",
       "      <th>count</th>\n",
       "      <td>20741.000000</td>\n",
       "      <td>19583</td>\n",
       "      <td>20663</td>\n",
       "      <td>20741</td>\n",
       "      <td>2894.000000</td>\n",
       "      <td>2927.000000</td>\n",
       "      <td>2894.000000</td>\n",
       "      <td>20722.000000</td>\n",
       "      <td>20719.000000</td>\n",
       "      <td>372</td>\n",
       "      <td>20741</td>\n",
       "      <td>19396</td>\n",
       "      <td>20741.000000</td>\n",
       "      <td>20741</td>\n",
       "    </tr>\n",
       "    <tr>\n",
       "      <th>unique</th>\n",
       "      <td>NaN</td>\n",
       "      <td>8</td>\n",
       "      <td>156</td>\n",
       "      <td>187</td>\n",
       "      <td>NaN</td>\n",
       "      <td>NaN</td>\n",
       "      <td>NaN</td>\n",
       "      <td>NaN</td>\n",
       "      <td>NaN</td>\n",
       "      <td>6</td>\n",
       "      <td>5849</td>\n",
       "      <td>12233</td>\n",
       "      <td>NaN</td>\n",
       "      <td>13754</td>\n",
       "    </tr>\n",
       "    <tr>\n",
       "      <th>top</th>\n",
       "      <td>NaN</td>\n",
       "      <td>Great Britain</td>\n",
       "      <td>Africa., port unspecified</td>\n",
       "      <td>Barbados, port unspecified</td>\n",
       "      <td>NaN</td>\n",
       "      <td>NaN</td>\n",
       "      <td>NaN</td>\n",
       "      <td>NaN</td>\n",
       "      <td>NaN</td>\n",
       "      <td>Slave insurrection</td>\n",
       "      <td></td>\n",
       "      <td>Smith, John</td>\n",
       "      <td>NaN</td>\n",
       "      <td>[u'mettas,I&lt;&gt;Mettas, Jean,  &lt;i&gt;R\\xe9pertoire d...</td>\n",
       "    </tr>\n",
       "    <tr>\n",
       "      <th>freq</th>\n",
       "      <td>NaN</td>\n",
       "      <td>10536</td>\n",
       "      <td>5999</td>\n",
       "      <td>2038</td>\n",
       "      <td>NaN</td>\n",
       "      <td>NaN</td>\n",
       "      <td>NaN</td>\n",
       "      <td>NaN</td>\n",
       "      <td>NaN</td>\n",
       "      <td>330</td>\n",
       "      <td>712</td>\n",
       "      <td>36</td>\n",
       "      <td>NaN</td>\n",
       "      <td>1134</td>\n",
       "    </tr>\n",
       "    <tr>\n",
       "      <th>mean</th>\n",
       "      <td>1752.014850</td>\n",
       "      <td>NaN</td>\n",
       "      <td>NaN</td>\n",
       "      <td>NaN</td>\n",
       "      <td>0.274198</td>\n",
       "      <td>0.231582</td>\n",
       "      <td>0.496648</td>\n",
       "      <td>295.050381</td>\n",
       "      <td>251.573966</td>\n",
       "      <td>NaN</td>\n",
       "      <td>NaN</td>\n",
       "      <td>NaN</td>\n",
       "      <td>42783.741671</td>\n",
       "      <td>NaN</td>\n",
       "    </tr>\n",
       "    <tr>\n",
       "      <th>std</th>\n",
       "      <td>59.702189</td>\n",
       "      <td>NaN</td>\n",
       "      <td>NaN</td>\n",
       "      <td>NaN</td>\n",
       "      <td>0.116513</td>\n",
       "      <td>0.149508</td>\n",
       "      <td>0.140324</td>\n",
       "      <td>147.997690</td>\n",
       "      <td>128.050439</td>\n",
       "      <td>NaN</td>\n",
       "      <td>NaN</td>\n",
       "      <td>NaN</td>\n",
       "      <td>32401.785320</td>\n",
       "      <td>NaN</td>\n",
       "    </tr>\n",
       "    <tr>\n",
       "      <th>min</th>\n",
       "      <td>1520.000000</td>\n",
       "      <td>NaN</td>\n",
       "      <td>NaN</td>\n",
       "      <td>NaN</td>\n",
       "      <td>0.000000</td>\n",
       "      <td>0.000000</td>\n",
       "      <td>0.000000</td>\n",
       "      <td>1.000000</td>\n",
       "      <td>1.000000</td>\n",
       "      <td>NaN</td>\n",
       "      <td>NaN</td>\n",
       "      <td>NaN</td>\n",
       "      <td>112.000000</td>\n",
       "      <td>NaN</td>\n",
       "    </tr>\n",
       "    <tr>\n",
       "      <th>25%</th>\n",
       "      <td>1724.000000</td>\n",
       "      <td>NaN</td>\n",
       "      <td>NaN</td>\n",
       "      <td>NaN</td>\n",
       "      <td>0.195265</td>\n",
       "      <td>0.115380</td>\n",
       "      <td>0.407460</td>\n",
       "      <td>194.000000</td>\n",
       "      <td>163.000000</td>\n",
       "      <td>NaN</td>\n",
       "      <td>NaN</td>\n",
       "      <td>NaN</td>\n",
       "      <td>17862.000000</td>\n",
       "      <td>NaN</td>\n",
       "    </tr>\n",
       "    <tr>\n",
       "      <th>50%</th>\n",
       "      <td>1765.000000</td>\n",
       "      <td>NaN</td>\n",
       "      <td>NaN</td>\n",
       "      <td>NaN</td>\n",
       "      <td>0.264110</td>\n",
       "      <td>0.215100</td>\n",
       "      <td>0.497890</td>\n",
       "      <td>282.000000</td>\n",
       "      <td>241.000000</td>\n",
       "      <td>NaN</td>\n",
       "      <td>NaN</td>\n",
       "      <td>NaN</td>\n",
       "      <td>31916.000000</td>\n",
       "      <td>NaN</td>\n",
       "    </tr>\n",
       "    <tr>\n",
       "      <th>75%</th>\n",
       "      <td>1792.000000</td>\n",
       "      <td>NaN</td>\n",
       "      <td>NaN</td>\n",
       "      <td>NaN</td>\n",
       "      <td>0.346150</td>\n",
       "      <td>0.321900</td>\n",
       "      <td>0.586765</td>\n",
       "      <td>368.000000</td>\n",
       "      <td>313.000000</td>\n",
       "      <td>NaN</td>\n",
       "      <td>NaN</td>\n",
       "      <td>NaN</td>\n",
       "      <td>78283.000000</td>\n",
       "      <td>NaN</td>\n",
       "    </tr>\n",
       "    <tr>\n",
       "      <th>max</th>\n",
       "      <td>1866.000000</td>\n",
       "      <td>NaN</td>\n",
       "      <td>NaN</td>\n",
       "      <td>NaN</td>\n",
       "      <td>1.000000</td>\n",
       "      <td>1.000000</td>\n",
       "      <td>1.000000</td>\n",
       "      <td>2024.000000</td>\n",
       "      <td>1700.000000</td>\n",
       "      <td>NaN</td>\n",
       "      <td>NaN</td>\n",
       "      <td>NaN</td>\n",
       "      <td>900206.000000</td>\n",
       "      <td>NaN</td>\n",
       "    </tr>\n",
       "  </tbody>\n",
       "</table>\n",
       "</div>"
      ],
      "text/plain": [
       "        year_of_arrival           flag          place_of_purchase  \\\n",
       "count      20741.000000          19583                      20663   \n",
       "unique              NaN              8                        156   \n",
       "top                 NaN  Great Britain  Africa., port unspecified   \n",
       "freq                NaN          10536                       5999   \n",
       "mean        1752.014850            NaN                        NaN   \n",
       "std           59.702189            NaN                        NaN   \n",
       "min         1520.000000            NaN                        NaN   \n",
       "25%         1724.000000            NaN                        NaN   \n",
       "50%         1765.000000            NaN                        NaN   \n",
       "75%         1792.000000            NaN                        NaN   \n",
       "max         1866.000000            NaN                        NaN   \n",
       "\n",
       "                  place_of_landing  percent_women  percent_children  \\\n",
       "count                        20741    2894.000000       2927.000000   \n",
       "unique                         187            NaN               NaN   \n",
       "top     Barbados, port unspecified            NaN               NaN   \n",
       "freq                          2038            NaN               NaN   \n",
       "mean                           NaN       0.274198          0.231582   \n",
       "std                            NaN       0.116513          0.149508   \n",
       "min                            NaN       0.000000          0.000000   \n",
       "25%                            NaN       0.195265          0.115380   \n",
       "50%                            NaN       0.264110          0.215100   \n",
       "75%                            NaN       0.346150          0.321900   \n",
       "max                            NaN       1.000000          1.000000   \n",
       "\n",
       "        percent_men  total_embarked  total_disembarked    resistance_label  \\\n",
       "count   2894.000000    20722.000000       20719.000000                 372   \n",
       "unique          NaN             NaN                NaN                   6   \n",
       "top             NaN             NaN                NaN  Slave insurrection   \n",
       "freq            NaN             NaN                NaN                 330   \n",
       "mean       0.496648      295.050381         251.573966                 NaN   \n",
       "std        0.140324      147.997690         128.050439                 NaN   \n",
       "min        0.000000        1.000000           1.000000                 NaN   \n",
       "25%        0.407460      194.000000         163.000000                 NaN   \n",
       "50%        0.497890      282.000000         241.000000                 NaN   \n",
       "75%        0.586765      368.000000         313.000000                 NaN   \n",
       "max        1.000000     2024.000000        1700.000000                 NaN   \n",
       "\n",
       "       vessel_name captain's_name      voyage_id  \\\n",
       "count        20741          19396   20741.000000   \n",
       "unique        5849          12233            NaN   \n",
       "top                   Smith, John            NaN   \n",
       "freq           712             36            NaN   \n",
       "mean           NaN            NaN   42783.741671   \n",
       "std            NaN            NaN   32401.785320   \n",
       "min            NaN            NaN     112.000000   \n",
       "25%            NaN            NaN   17862.000000   \n",
       "50%            NaN            NaN   31916.000000   \n",
       "75%            NaN            NaN   78283.000000   \n",
       "max            NaN            NaN  900206.000000   \n",
       "\n",
       "                                                  sources  \n",
       "count                                               20741  \n",
       "unique                                              13754  \n",
       "top     [u'mettas,I<>Mettas, Jean,  <i>R\\xe9pertoire d...  \n",
       "freq                                                 1134  \n",
       "mean                                                  NaN  \n",
       "std                                                   NaN  \n",
       "min                                                   NaN  \n",
       "25%                                                   NaN  \n",
       "50%                                                   NaN  \n",
       "75%                                                   NaN  \n",
       "max                                                   NaN  "
      ]
     },
     "execution_count": 10,
     "metadata": {},
     "output_type": "execute_result"
    }
   ],
   "source": [
    "slave_voyages_df.describe(include='all')"
   ]
  },
  {
   "cell_type": "markdown",
   "metadata": {},
   "source": [
    "## Missing Data"
   ]
  },
  {
   "cell_type": "markdown",
   "metadata": {},
   "source": [
    "```{epigraph}\n",
    "The conceit of the archive is that it is the repository of answers, of knowable conclusions, of the data needed to explain or understand the past.\n",
    "\n",
    "The reality, however, is that the archive is the troubled genesis of our always-failed effort to unravel the effects of the past on the present; rather than verifiable truths, the archive — and its silences — house the very questions that unsettle us.\n",
    "\n",
    "-- Jennifer Morgan, [\"Accounting for 'The Most Excruciating Torment'\"](https://read.dukeupress.edu/history-of-the-present/article-abstract/6/2/184/153282/Accounting-for-The-Most-Excruciating-Torment?redirectedFrom=PDF)\n",
    "```"
   ]
  },
  {
   "cell_type": "markdown",
   "metadata": {},
   "source": [
    "Responsible data analysis requires understanding missing data. The Trans-Atlantic Slave Trade Database, as historian Jennifer Morgan [writes](https://read.dukeupress.edu/history-of-the-present/article-abstract/6/2/184/153282/Accounting-for-The-Most-Excruciating-Torment?redirectedFrom=PDF), contains innumerable \"silences\" and \"gaps.\" These silences include the thoughts, feelings, and experiences of the enslaved African people on board the voyages — silences that cannot be found in the database itself.\n",
    "\n",
    "There are other kinds of silences and gaps that can be detected in the database itself, however. For example, while some of the voyages in the the Trans-Atlantic Slave Trade Database recorded information about how many enslaved women and children were aboard, most did not. Yet focusing on the data that is there and analyzing trends in the missing data can help shed light on the history of gender and enslavement. The fact that most ship captains did not record gender information, Morgan argues, helps tell us about their \"priorities\": \"[W]e can assume that had it been financially significant to have more men than women that data would have been more scrupulously recorded.\""
   ]
  },
  {
   "cell_type": "markdown",
   "metadata": {},
   "source": [
    "### .isna() / .notna()"
   ]
  },
  {
   "cell_type": "markdown",
   "metadata": {},
   "source": [
    "`pandas` has special ways of dealing with missing data. As you may have already noticed, blank rows in a CSV file show up as `NaN` in a `pandas` DataFrame."
   ]
  },
  {
   "cell_type": "markdown",
   "metadata": {},
   "source": [
    "To filter and count the number of missing/not missing values in a dataset, we can use the special `.isna()` and `.notna()` methods on a DataFrame or Series object."
   ]
  },
  {
   "cell_type": "code",
   "execution_count": 11,
   "metadata": {},
   "outputs": [
    {
     "data": {
      "text/plain": [
       "0        False\n",
       "1        False\n",
       "2        False\n",
       "3        False\n",
       "4        False\n",
       "         ...  \n",
       "20736    False\n",
       "20737    False\n",
       "20738    False\n",
       "20739    False\n",
       "20740    False\n",
       "Name: percent_women, Length: 20741, dtype: bool"
      ]
     },
     "execution_count": 11,
     "metadata": {},
     "output_type": "execute_result"
    }
   ],
   "source": [
    "slave_voyages_df['percent_women'].notna()"
   ]
  },
  {
   "cell_type": "markdown",
   "metadata": {},
   "source": [
    "The `.isna()` and `.notna()` methods return True/False pairs for each row, which we can use to filter the DataFrame for any rows that have information in a given column. For example, we can filter the DataFrame for only rows that have information about the percentage of enslaved women aboard the voyage."
   ]
  },
  {
   "cell_type": "code",
   "execution_count": 12,
   "metadata": {},
   "outputs": [
    {
     "data": {
      "text/html": [
       "<div>\n",
       "<style scoped>\n",
       "    .dataframe tbody tr th:only-of-type {\n",
       "        vertical-align: middle;\n",
       "    }\n",
       "\n",
       "    .dataframe tbody tr th {\n",
       "        vertical-align: top;\n",
       "    }\n",
       "\n",
       "    .dataframe thead th {\n",
       "        text-align: right;\n",
       "    }\n",
       "</style>\n",
       "<table border=\"1\" class=\"dataframe\">\n",
       "  <thead>\n",
       "    <tr style=\"text-align: right;\">\n",
       "      <th></th>\n",
       "      <th>year_of_arrival</th>\n",
       "      <th>flag</th>\n",
       "      <th>place_of_purchase</th>\n",
       "      <th>place_of_landing</th>\n",
       "      <th>percent_women</th>\n",
       "      <th>percent_children</th>\n",
       "      <th>percent_men</th>\n",
       "      <th>total_embarked</th>\n",
       "      <th>total_disembarked</th>\n",
       "      <th>resistance_label</th>\n",
       "      <th>vessel_name</th>\n",
       "      <th>captain's_name</th>\n",
       "      <th>voyage_id</th>\n",
       "      <th>sources</th>\n",
       "    </tr>\n",
       "  </thead>\n",
       "  <tbody>\n",
       "    <tr>\n",
       "      <th>938</th>\n",
       "      <td>1613</td>\n",
       "      <td>Portugal / Brazil</td>\n",
       "      <td>Luanda</td>\n",
       "      <td>Santo Tomas</td>\n",
       "      <td>0.30556</td>\n",
       "      <td>0.20588</td>\n",
       "      <td>0.69444</td>\n",
       "      <td>362.0</td>\n",
       "      <td>290.0</td>\n",
       "      <td>NaN</td>\n",
       "      <td>NS de Nazareth</td>\n",
       "      <td>Gómez, Juan</td>\n",
       "      <td>47352</td>\n",
       "      <td>[u'AGI-Esc 38B, pieza 2, folios 427r-427v&lt;&gt;&lt;p&gt;...</td>\n",
       "    </tr>\n",
       "    <tr>\n",
       "      <th>1044</th>\n",
       "      <td>1619</td>\n",
       "      <td>Portugal / Brazil</td>\n",
       "      <td>Luanda</td>\n",
       "      <td>Veracruz</td>\n",
       "      <td>0.21127</td>\n",
       "      <td>0.21596</td>\n",
       "      <td>0.57277</td>\n",
       "      <td>349.0</td>\n",
       "      <td>279.0</td>\n",
       "      <td>NaN</td>\n",
       "      <td>S Antônio</td>\n",
       "      <td>Acosta, Jacome de</td>\n",
       "      <td>29248</td>\n",
       "      <td>[u'Vila Vilar,Cuadro3&lt;&gt;&lt;p&gt;Vila Vilar, Enriquet...</td>\n",
       "    </tr>\n",
       "    <tr>\n",
       "      <th>1115</th>\n",
       "      <td>1620</td>\n",
       "      <td>Portugal / Brazil</td>\n",
       "      <td>Luanda</td>\n",
       "      <td>Buenos Aires</td>\n",
       "      <td>0.13043</td>\n",
       "      <td>0.29193</td>\n",
       "      <td>0.57764</td>\n",
       "      <td>381.0</td>\n",
       "      <td>304.0</td>\n",
       "      <td>NaN</td>\n",
       "      <td>NS de Consolación</td>\n",
       "      <td>Acosta, Gonçalo</td>\n",
       "      <td>29561</td>\n",
       "      <td>[u'AGI, Indiferente General, 2795&lt;&gt;&lt;p&gt;&lt;em&gt;AG!&lt;...</td>\n",
       "    </tr>\n",
       "    <tr>\n",
       "      <th>1117</th>\n",
       "      <td>1620</td>\n",
       "      <td>NaN</td>\n",
       "      <td>Luanda</td>\n",
       "      <td>Cumana</td>\n",
       "      <td>0.29570</td>\n",
       "      <td>0.33571</td>\n",
       "      <td>0.70430</td>\n",
       "      <td>421.0</td>\n",
       "      <td>337.0</td>\n",
       "      <td>NaN</td>\n",
       "      <td>NS de Rocha</td>\n",
       "      <td>Sosa, Nicolás de&lt;br/&gt; Estéves, Domingo&lt;br/&gt; Ro...</td>\n",
       "      <td>29941</td>\n",
       "      <td>[u'AGI, Contratacion, 2881&lt;&gt;&lt;p&gt;&lt;em&gt;AG!&lt;/em&gt; (S...</td>\n",
       "    </tr>\n",
       "    <tr>\n",
       "      <th>1334</th>\n",
       "      <td>1628</td>\n",
       "      <td>Portugal / Brazil</td>\n",
       "      <td>West Central Africa and St. Helena, port unspe...</td>\n",
       "      <td>Spanish Circum-Caribbean,unspecified</td>\n",
       "      <td>0.16908</td>\n",
       "      <td>0.58454</td>\n",
       "      <td>0.24638</td>\n",
       "      <td>303.0</td>\n",
       "      <td>242.0</td>\n",
       "      <td>NaN</td>\n",
       "      <td>S Pedro</td>\n",
       "      <td>Silva, Jacinto da</td>\n",
       "      <td>29568</td>\n",
       "      <td>[u'AGI, Indiferente General, 2796&lt;&gt;&lt;p&gt;&lt;em&gt;AG!&lt;...</td>\n",
       "    </tr>\n",
       "    <tr>\n",
       "      <th>...</th>\n",
       "      <td>...</td>\n",
       "      <td>...</td>\n",
       "      <td>...</td>\n",
       "      <td>...</td>\n",
       "      <td>...</td>\n",
       "      <td>...</td>\n",
       "      <td>...</td>\n",
       "      <td>...</td>\n",
       "      <td>...</td>\n",
       "      <td>...</td>\n",
       "      <td>...</td>\n",
       "      <td>...</td>\n",
       "      <td>...</td>\n",
       "      <td>...</td>\n",
       "    </tr>\n",
       "    <tr>\n",
       "      <th>20295</th>\n",
       "      <td>1841</td>\n",
       "      <td>Portugal / Brazil</td>\n",
       "      <td>Rio Pongo</td>\n",
       "      <td>Cuba, port unspecified</td>\n",
       "      <td>0.20548</td>\n",
       "      <td>0.21233</td>\n",
       "      <td>0.58219</td>\n",
       "      <td>324.0</td>\n",
       "      <td>292.0</td>\n",
       "      <td>NaN</td>\n",
       "      <td>Segunda Rosália</td>\n",
       "      <td>Peirano, Francisco</td>\n",
       "      <td>2078</td>\n",
       "      <td>[u'PP,1845,XLIX:593-633&lt;&gt;Great Britain, &lt;i&gt;Par...</td>\n",
       "    </tr>\n",
       "    <tr>\n",
       "      <th>20321</th>\n",
       "      <td>1841</td>\n",
       "      <td>Spain / Uruguay</td>\n",
       "      <td>Africa., port unspecified</td>\n",
       "      <td>Bahamas, port unspecified</td>\n",
       "      <td>0.15758</td>\n",
       "      <td>0.31548</td>\n",
       "      <td>0.53939</td>\n",
       "      <td>215.0</td>\n",
       "      <td>193.0</td>\n",
       "      <td>NaN</td>\n",
       "      <td>Trovadore</td>\n",
       "      <td>Velasea, de Bonita</td>\n",
       "      <td>5503</td>\n",
       "      <td>[u'Dalleo,24&lt;&gt;Dalleo, Peter D.,\"Africans in th...</td>\n",
       "    </tr>\n",
       "    <tr>\n",
       "      <th>20429</th>\n",
       "      <td>1850</td>\n",
       "      <td>NaN</td>\n",
       "      <td>Benguela</td>\n",
       "      <td>British Caribbean, colony unspecified</td>\n",
       "      <td>0.00000</td>\n",
       "      <td>1.00000</td>\n",
       "      <td>0.00000</td>\n",
       "      <td>94.0</td>\n",
       "      <td>74.0</td>\n",
       "      <td>NaN</td>\n",
       "      <td>Amélia</td>\n",
       "      <td>Oliveira, José</td>\n",
       "      <td>4674</td>\n",
       "      <td>[u'IUP,ST,38/A/208&lt;&gt;Great Britain, &lt;i&gt;Irish Un...</td>\n",
       "    </tr>\n",
       "    <tr>\n",
       "      <th>20498</th>\n",
       "      <td>1854</td>\n",
       "      <td>U.S.A.</td>\n",
       "      <td>Whydah</td>\n",
       "      <td>Bahia Honda</td>\n",
       "      <td>0.45455</td>\n",
       "      <td>0.08333</td>\n",
       "      <td>0.54545</td>\n",
       "      <td>600.0</td>\n",
       "      <td>584.0</td>\n",
       "      <td>NaN</td>\n",
       "      <td>Grey Eagle</td>\n",
       "      <td>Darnaud</td>\n",
       "      <td>4190</td>\n",
       "      <td>[u'FO84/965,Crawford,55.02.07,enc&lt;&gt;&lt;p&gt;&lt;em&gt;BNA&lt;...</td>\n",
       "    </tr>\n",
       "    <tr>\n",
       "      <th>20555</th>\n",
       "      <td>1857</td>\n",
       "      <td>NaN</td>\n",
       "      <td>Cabinda</td>\n",
       "      <td>Kingston</td>\n",
       "      <td>0.08943</td>\n",
       "      <td>0.00000</td>\n",
       "      <td>0.91057</td>\n",
       "      <td>500.0</td>\n",
       "      <td>362.0</td>\n",
       "      <td>NaN</td>\n",
       "      <td>Zeldina</td>\n",
       "      <td>NaN</td>\n",
       "      <td>4229</td>\n",
       "      <td>[u'IUP,ST,44/A/44,161&lt;&gt;Great Britain, &lt;i&gt;Irish...</td>\n",
       "    </tr>\n",
       "  </tbody>\n",
       "</table>\n",
       "<p>2894 rows × 14 columns</p>\n",
       "</div>"
      ],
      "text/plain": [
       "       year_of_arrival               flag  \\\n",
       "938               1613  Portugal / Brazil   \n",
       "1044              1619  Portugal / Brazil   \n",
       "1115              1620  Portugal / Brazil   \n",
       "1117              1620                NaN   \n",
       "1334              1628  Portugal / Brazil   \n",
       "...                ...                ...   \n",
       "20295             1841  Portugal / Brazil   \n",
       "20321             1841    Spain / Uruguay   \n",
       "20429             1850                NaN   \n",
       "20498             1854             U.S.A.   \n",
       "20555             1857                NaN   \n",
       "\n",
       "                                       place_of_purchase  \\\n",
       "938                                               Luanda   \n",
       "1044                                              Luanda   \n",
       "1115                                              Luanda   \n",
       "1117                                              Luanda   \n",
       "1334   West Central Africa and St. Helena, port unspe...   \n",
       "...                                                  ...   \n",
       "20295                                          Rio Pongo   \n",
       "20321                          Africa., port unspecified   \n",
       "20429                                           Benguela   \n",
       "20498                                             Whydah   \n",
       "20555                                            Cabinda   \n",
       "\n",
       "                            place_of_landing  percent_women  percent_children  \\\n",
       "938                              Santo Tomas        0.30556           0.20588   \n",
       "1044                                Veracruz        0.21127           0.21596   \n",
       "1115                            Buenos Aires        0.13043           0.29193   \n",
       "1117                                  Cumana        0.29570           0.33571   \n",
       "1334    Spanish Circum-Caribbean,unspecified        0.16908           0.58454   \n",
       "...                                      ...            ...               ...   \n",
       "20295                 Cuba, port unspecified        0.20548           0.21233   \n",
       "20321              Bahamas, port unspecified        0.15758           0.31548   \n",
       "20429  British Caribbean, colony unspecified        0.00000           1.00000   \n",
       "20498                            Bahia Honda        0.45455           0.08333   \n",
       "20555                               Kingston        0.08943           0.00000   \n",
       "\n",
       "       percent_men  total_embarked  total_disembarked resistance_label  \\\n",
       "938        0.69444           362.0              290.0              NaN   \n",
       "1044       0.57277           349.0              279.0              NaN   \n",
       "1115       0.57764           381.0              304.0              NaN   \n",
       "1117       0.70430           421.0              337.0              NaN   \n",
       "1334       0.24638           303.0              242.0              NaN   \n",
       "...            ...             ...                ...              ...   \n",
       "20295      0.58219           324.0              292.0              NaN   \n",
       "20321      0.53939           215.0              193.0              NaN   \n",
       "20429      0.00000            94.0               74.0              NaN   \n",
       "20498      0.54545           600.0              584.0              NaN   \n",
       "20555      0.91057           500.0              362.0              NaN   \n",
       "\n",
       "             vessel_name                                     captain's_name  \\\n",
       "938       NS de Nazareth                                        Gómez, Juan   \n",
       "1044           S Antônio                                  Acosta, Jacome de   \n",
       "1115   NS de Consolación                                    Acosta, Gonçalo   \n",
       "1117         NS de Rocha  Sosa, Nicolás de<br/> Estéves, Domingo<br/> Ro...   \n",
       "1334             S Pedro                                  Silva, Jacinto da   \n",
       "...                  ...                                                ...   \n",
       "20295    Segunda Rosália                                 Peirano, Francisco   \n",
       "20321          Trovadore                                 Velasea, de Bonita   \n",
       "20429             Amélia                                     Oliveira, José   \n",
       "20498         Grey Eagle                                            Darnaud   \n",
       "20555            Zeldina                                                NaN   \n",
       "\n",
       "       voyage_id                                            sources  \n",
       "938        47352  [u'AGI-Esc 38B, pieza 2, folios 427r-427v<><p>...  \n",
       "1044       29248  [u'Vila Vilar,Cuadro3<><p>Vila Vilar, Enriquet...  \n",
       "1115       29561  [u'AGI, Indiferente General, 2795<><p><em>AG!<...  \n",
       "1117       29941  [u'AGI, Contratacion, 2881<><p><em>AG!</em> (S...  \n",
       "1334       29568  [u'AGI, Indiferente General, 2796<><p><em>AG!<...  \n",
       "...          ...                                                ...  \n",
       "20295       2078  [u'PP,1845,XLIX:593-633<>Great Britain, <i>Par...  \n",
       "20321       5503  [u'Dalleo,24<>Dalleo, Peter D.,\"Africans in th...  \n",
       "20429       4674  [u'IUP,ST,38/A/208<>Great Britain, <i>Irish Un...  \n",
       "20498       4190  [u'FO84/965,Crawford,55.02.07,enc<><p><em>BNA<...  \n",
       "20555       4229  [u'IUP,ST,44/A/44,161<>Great Britain, <i>Irish...  \n",
       "\n",
       "[2894 rows x 14 columns]"
      ]
     },
     "execution_count": 12,
     "metadata": {},
     "output_type": "execute_result"
    }
   ],
   "source": [
    "slave_voyages_df[slave_voyages_df['percent_women'].notna()]"
   ]
  },
  {
   "cell_type": "markdown",
   "metadata": {},
   "source": [
    "The data is now filtered to only include the 2,894 rows with information about how many women were aboard the voyage.\n",
    "\n",
    "To explicitly count the number of blank rows, we can use the `.value_counts()` method."
   ]
  },
  {
   "cell_type": "code",
   "execution_count": 13,
   "metadata": {},
   "outputs": [
    {
     "data": {
      "text/plain": [
       "percent_women\n",
       "True     17847\n",
       "False     2894\n",
       "Name: count, dtype: int64"
      ]
     },
     "execution_count": 13,
     "metadata": {},
     "output_type": "execute_result"
    }
   ],
   "source": [
    "slave_voyages_df['percent_women'].isna().value_counts()"
   ]
  },
  {
   "cell_type": "markdown",
   "metadata": {},
   "source": [
    "There are 17,874 that do not contain information about the number of enslaved women on the voyage (`isna` = True) and 2,894 rows that do contain this information (`isna` = False)."
   ]
  },
  {
   "cell_type": "markdown",
   "metadata": {},
   "source": [
    "To quickly transform these numbers into percentages, we can set the `normalize=` parameter to True."
   ]
  },
  {
   "cell_type": "code",
   "execution_count": 14,
   "metadata": {},
   "outputs": [
    {
     "data": {
      "text/plain": [
       "percent_women\n",
       "True     0.86047\n",
       "False    0.13953\n",
       "Name: proportion, dtype: float64"
      ]
     },
     "execution_count": 14,
     "metadata": {},
     "output_type": "execute_result"
    }
   ],
   "source": [
    "slave_voyages_df['percent_women'].isna().value_counts(normalize=True)"
   ]
  },
  {
   "cell_type": "markdown",
   "metadata": {},
   "source": [
    "About 14% of rows in this dataset have information about the number of enslaved women on the voyage while 86% do not."
   ]
  },
  {
   "cell_type": "markdown",
   "metadata": {},
   "source": [
    "### .count()"
   ]
  },
  {
   "cell_type": "markdown",
   "metadata": {},
   "source": [
    "Because the `.count()` method always excludes NaN values, we can also count the number of values in each column and divide by the total number of rows in each column (`len()`) to find the percentage of not blank data in every column."
   ]
  },
  {
   "cell_type": "code",
   "execution_count": 16,
   "metadata": {},
   "outputs": [
    {
     "data": {
      "text/plain": [
       "year_of_arrival      1.000000\n",
       "flag                 0.944169\n",
       "place_of_purchase    0.996239\n",
       "place_of_landing     1.000000\n",
       "percent_women        0.139530\n",
       "percent_children     0.141121\n",
       "percent_men          0.139530\n",
       "total_embarked       0.999084\n",
       "total_disembarked    0.998939\n",
       "resistance_label     0.017935\n",
       "vessel_name          1.000000\n",
       "captain's_name       0.935153\n",
       "voyage_id            1.000000\n",
       "sources              1.000000\n",
       "dtype: float64"
      ]
     },
     "execution_count": 16,
     "metadata": {},
     "output_type": "execute_result"
    }
   ],
   "source": [
    "slave_voyages_df.count() / len(slave_voyages_df)"
   ]
  },
  {
   "cell_type": "markdown",
   "metadata": {},
   "source": [
    "For example, 100% of the rows in the columns \"year_of_arrival\" contain information, while 2% of the rows in the column \"resistance_label\" contain information. The \"resistance_label\" indicates whether there is a record of the enslaved Africans aboard the voyage staging some form of resistance."
   ]
  },
  {
   "cell_type": "markdown",
   "metadata": {},
   "source": [
    "### .fillna()"
   ]
  },
  {
   "cell_type": "markdown",
   "metadata": {},
   "source": [
    "If we wanted, we could fill the `NaN` values in the DataFrame with a different value by using the `.fillna()` method."
   ]
  },
  {
   "cell_type": "code",
   "execution_count": 17,
   "metadata": {},
   "outputs": [
    {
     "data": {
      "text/plain": [
       "0        no gender information recorded\n",
       "1        no gender information recorded\n",
       "2        no gender information recorded\n",
       "3        no gender information recorded\n",
       "4        no gender information recorded\n",
       "                      ...              \n",
       "20736    no gender information recorded\n",
       "20737    no gender information recorded\n",
       "20738    no gender information recorded\n",
       "20739    no gender information recorded\n",
       "20740    no gender information recorded\n",
       "Name: percent_women, Length: 20741, dtype: object"
      ]
     },
     "execution_count": 17,
     "metadata": {},
     "output_type": "execute_result"
    }
   ],
   "source": [
    "slave_voyages_df['percent_women'].fillna('no gender information recorded')"
   ]
  },
  {
   "cell_type": "markdown",
   "metadata": {},
   "source": [
    "## Rename Columns"
   ]
  },
  {
   "cell_type": "markdown",
   "metadata": {},
   "source": [
    "We can rename columns with the [`.rename()` method](https://pandas.pydata.org/pandas-docs/stable/reference/api/pandas.DataFrame.rename.html) and the `columns=` parameter. For example, we can rename the \"flag\" column \"national_affiliation.\""
   ]
  },
  {
   "cell_type": "code",
   "execution_count": 18,
   "metadata": {},
   "outputs": [
    {
     "data": {
      "text/html": [
       "<div>\n",
       "<style scoped>\n",
       "    .dataframe tbody tr th:only-of-type {\n",
       "        vertical-align: middle;\n",
       "    }\n",
       "\n",
       "    .dataframe tbody tr th {\n",
       "        vertical-align: top;\n",
       "    }\n",
       "\n",
       "    .dataframe thead th {\n",
       "        text-align: right;\n",
       "    }\n",
       "</style>\n",
       "<table border=\"1\" class=\"dataframe\">\n",
       "  <thead>\n",
       "    <tr style=\"text-align: right;\">\n",
       "      <th></th>\n",
       "      <th>year_of_arrival</th>\n",
       "      <th>national_affiliation</th>\n",
       "      <th>place_of_purchase</th>\n",
       "      <th>place_of_landing</th>\n",
       "      <th>percent_women</th>\n",
       "      <th>percent_children</th>\n",
       "      <th>percent_men</th>\n",
       "      <th>total_embarked</th>\n",
       "      <th>total_disembarked</th>\n",
       "      <th>resistance_label</th>\n",
       "      <th>vessel_name</th>\n",
       "      <th>captain's_name</th>\n",
       "      <th>voyage_id</th>\n",
       "      <th>sources</th>\n",
       "    </tr>\n",
       "  </thead>\n",
       "  <tbody>\n",
       "    <tr>\n",
       "      <th>0</th>\n",
       "      <td>1520</td>\n",
       "      <td>NaN</td>\n",
       "      <td>Portuguese Guinea</td>\n",
       "      <td>San Juan</td>\n",
       "      <td>NaN</td>\n",
       "      <td>NaN</td>\n",
       "      <td>NaN</td>\n",
       "      <td>324.0</td>\n",
       "      <td>259.0</td>\n",
       "      <td>NaN</td>\n",
       "      <td></td>\n",
       "      <td>NaN</td>\n",
       "      <td>42987</td>\n",
       "      <td>[u'AGI,Patronato 175, r.9&lt;&gt;&lt;p&gt;&lt;em&gt;AG!&lt;/em&gt; (Se...</td>\n",
       "    </tr>\n",
       "    <tr>\n",
       "      <th>1</th>\n",
       "      <td>1525</td>\n",
       "      <td>Portugal / Brazil</td>\n",
       "      <td>Sao Tome</td>\n",
       "      <td>Hispaniola, unspecified</td>\n",
       "      <td>NaN</td>\n",
       "      <td>NaN</td>\n",
       "      <td>NaN</td>\n",
       "      <td>359.0</td>\n",
       "      <td>287.0</td>\n",
       "      <td>NaN</td>\n",
       "      <td>S Maria de Bogoña</td>\n",
       "      <td>Monteiro, Pero</td>\n",
       "      <td>46473</td>\n",
       "      <td>[u'ANTT,CC,Parte II, maco 131, doc 54&lt;&gt;&lt;i&gt;Inst...</td>\n",
       "    </tr>\n",
       "    <tr>\n",
       "      <th>2</th>\n",
       "      <td>1526</td>\n",
       "      <td>Spain / Uruguay</td>\n",
       "      <td>Cape Verde Islands</td>\n",
       "      <td>Cuba, port unspecified</td>\n",
       "      <td>NaN</td>\n",
       "      <td>NaN</td>\n",
       "      <td>NaN</td>\n",
       "      <td>359.0</td>\n",
       "      <td>287.0</td>\n",
       "      <td>NaN</td>\n",
       "      <td></td>\n",
       "      <td>Carega, Esteban (?)</td>\n",
       "      <td>11297</td>\n",
       "      <td>[u'Pike,60-1,172&lt;&gt;Pike, Ruth, &lt;i&gt;Enterprise&lt;/i...</td>\n",
       "    </tr>\n",
       "    <tr>\n",
       "      <th>3</th>\n",
       "      <td>1526</td>\n",
       "      <td>Spain / Uruguay</td>\n",
       "      <td>Cape Verde Islands</td>\n",
       "      <td>Cuba, port unspecified</td>\n",
       "      <td>NaN</td>\n",
       "      <td>NaN</td>\n",
       "      <td>NaN</td>\n",
       "      <td>359.0</td>\n",
       "      <td>287.0</td>\n",
       "      <td>NaN</td>\n",
       "      <td></td>\n",
       "      <td>Carega, Esteban (?)</td>\n",
       "      <td>11298</td>\n",
       "      <td>[u'Pike,60-1,172&lt;&gt;Pike, Ruth, &lt;i&gt;Enterprise&lt;/i...</td>\n",
       "    </tr>\n",
       "    <tr>\n",
       "      <th>4</th>\n",
       "      <td>1526</td>\n",
       "      <td>NaN</td>\n",
       "      <td>Cape Verde Islands</td>\n",
       "      <td>Caribbean (colony unspecified)</td>\n",
       "      <td>NaN</td>\n",
       "      <td>NaN</td>\n",
       "      <td>NaN</td>\n",
       "      <td>359.0</td>\n",
       "      <td>287.0</td>\n",
       "      <td>NaN</td>\n",
       "      <td>S Anton</td>\n",
       "      <td>Leon, Juan de</td>\n",
       "      <td>42631</td>\n",
       "      <td>[u'Chaunus, 3: 162-63&lt;&gt;&lt;p&gt;Chaunus, &lt;em&gt;xxxxxx&lt;...</td>\n",
       "    </tr>\n",
       "    <tr>\n",
       "      <th>...</th>\n",
       "      <td>...</td>\n",
       "      <td>...</td>\n",
       "      <td>...</td>\n",
       "      <td>...</td>\n",
       "      <td>...</td>\n",
       "      <td>...</td>\n",
       "      <td>...</td>\n",
       "      <td>...</td>\n",
       "      <td>...</td>\n",
       "      <td>...</td>\n",
       "      <td>...</td>\n",
       "      <td>...</td>\n",
       "      <td>...</td>\n",
       "      <td>...</td>\n",
       "    </tr>\n",
       "    <tr>\n",
       "      <th>20736</th>\n",
       "      <td>1864</td>\n",
       "      <td>Spain / Uruguay</td>\n",
       "      <td>Africa., port unspecified</td>\n",
       "      <td>Cuba, port unspecified</td>\n",
       "      <td>NaN</td>\n",
       "      <td>NaN</td>\n",
       "      <td>NaN</td>\n",
       "      <td>488.0</td>\n",
       "      <td>465.0</td>\n",
       "      <td>NaN</td>\n",
       "      <td>Polaca</td>\n",
       "      <td>NaN</td>\n",
       "      <td>46554</td>\n",
       "      <td>[u'AHNM, Ultramar, Leg. 3551, 6&lt;&gt;&lt;i&gt;Archivo Hi...</td>\n",
       "    </tr>\n",
       "    <tr>\n",
       "      <th>20737</th>\n",
       "      <td>1865</td>\n",
       "      <td>Spain / Uruguay</td>\n",
       "      <td>Africa., port unspecified</td>\n",
       "      <td>Isla de Pinas</td>\n",
       "      <td>NaN</td>\n",
       "      <td>NaN</td>\n",
       "      <td>NaN</td>\n",
       "      <td>152.0</td>\n",
       "      <td>145.0</td>\n",
       "      <td>Slave insurrection</td>\n",
       "      <td>Gato</td>\n",
       "      <td>NaN</td>\n",
       "      <td>4394</td>\n",
       "      <td>[u'IUP,ST,50/B/137&lt;&gt;Great Britain, &lt;i&gt;Irish Un...</td>\n",
       "    </tr>\n",
       "    <tr>\n",
       "      <th>20738</th>\n",
       "      <td>1865</td>\n",
       "      <td>NaN</td>\n",
       "      <td>Africa., port unspecified</td>\n",
       "      <td>Mariel</td>\n",
       "      <td>NaN</td>\n",
       "      <td>NaN</td>\n",
       "      <td>NaN</td>\n",
       "      <td>780.0</td>\n",
       "      <td>650.0</td>\n",
       "      <td>NaN</td>\n",
       "      <td></td>\n",
       "      <td>NaN</td>\n",
       "      <td>4395</td>\n",
       "      <td>[u'IUP,ST,50/B/144&lt;&gt;Great Britain, &lt;i&gt;Irish Un...</td>\n",
       "    </tr>\n",
       "    <tr>\n",
       "      <th>20739</th>\n",
       "      <td>1865</td>\n",
       "      <td>NaN</td>\n",
       "      <td>Congo River</td>\n",
       "      <td>Cuba, port unspecified</td>\n",
       "      <td>NaN</td>\n",
       "      <td>NaN</td>\n",
       "      <td>NaN</td>\n",
       "      <td>1265.0</td>\n",
       "      <td>1004.0</td>\n",
       "      <td>NaN</td>\n",
       "      <td>Cicerón</td>\n",
       "      <td>Mesquita</td>\n",
       "      <td>5052</td>\n",
       "      <td>[u'IUP,ST,50/A/23-4&lt;&gt;Great Britain, &lt;i&gt;Irish U...</td>\n",
       "    </tr>\n",
       "    <tr>\n",
       "      <th>20740</th>\n",
       "      <td>1866</td>\n",
       "      <td>NaN</td>\n",
       "      <td>Africa., port unspecified</td>\n",
       "      <td>Cuba, port unspecified</td>\n",
       "      <td>NaN</td>\n",
       "      <td>NaN</td>\n",
       "      <td>NaN</td>\n",
       "      <td>851.0</td>\n",
       "      <td>700.0</td>\n",
       "      <td>NaN</td>\n",
       "      <td></td>\n",
       "      <td>NaN</td>\n",
       "      <td>4998</td>\n",
       "      <td>[u'IUP,ST,50/B/220&lt;&gt;Great Britain, &lt;i&gt;Irish Un...</td>\n",
       "    </tr>\n",
       "  </tbody>\n",
       "</table>\n",
       "<p>20741 rows × 14 columns</p>\n",
       "</div>"
      ],
      "text/plain": [
       "       year_of_arrival national_affiliation          place_of_purchase  \\\n",
       "0                 1520                  NaN          Portuguese Guinea   \n",
       "1                 1525    Portugal / Brazil                   Sao Tome   \n",
       "2                 1526      Spain / Uruguay         Cape Verde Islands   \n",
       "3                 1526      Spain / Uruguay         Cape Verde Islands   \n",
       "4                 1526                  NaN         Cape Verde Islands   \n",
       "...                ...                  ...                        ...   \n",
       "20736             1864      Spain / Uruguay  Africa., port unspecified   \n",
       "20737             1865      Spain / Uruguay  Africa., port unspecified   \n",
       "20738             1865                  NaN  Africa., port unspecified   \n",
       "20739             1865                  NaN                Congo River   \n",
       "20740             1866                  NaN  Africa., port unspecified   \n",
       "\n",
       "                     place_of_landing  percent_women  percent_children  \\\n",
       "0                            San Juan            NaN               NaN   \n",
       "1             Hispaniola, unspecified            NaN               NaN   \n",
       "2              Cuba, port unspecified            NaN               NaN   \n",
       "3              Cuba, port unspecified            NaN               NaN   \n",
       "4      Caribbean (colony unspecified)            NaN               NaN   \n",
       "...                               ...            ...               ...   \n",
       "20736          Cuba, port unspecified            NaN               NaN   \n",
       "20737                   Isla de Pinas            NaN               NaN   \n",
       "20738                          Mariel            NaN               NaN   \n",
       "20739          Cuba, port unspecified            NaN               NaN   \n",
       "20740          Cuba, port unspecified            NaN               NaN   \n",
       "\n",
       "       percent_men  total_embarked  total_disembarked    resistance_label  \\\n",
       "0              NaN           324.0              259.0                 NaN   \n",
       "1              NaN           359.0              287.0                 NaN   \n",
       "2              NaN           359.0              287.0                 NaN   \n",
       "3              NaN           359.0              287.0                 NaN   \n",
       "4              NaN           359.0              287.0                 NaN   \n",
       "...            ...             ...                ...                 ...   \n",
       "20736          NaN           488.0              465.0                 NaN   \n",
       "20737          NaN           152.0              145.0  Slave insurrection   \n",
       "20738          NaN           780.0              650.0                 NaN   \n",
       "20739          NaN          1265.0             1004.0                 NaN   \n",
       "20740          NaN           851.0              700.0                 NaN   \n",
       "\n",
       "             vessel_name       captain's_name  voyage_id  \\\n",
       "0                                         NaN      42987   \n",
       "1      S Maria de Bogoña       Monteiro, Pero      46473   \n",
       "2                         Carega, Esteban (?)      11297   \n",
       "3                         Carega, Esteban (?)      11298   \n",
       "4                S Anton        Leon, Juan de      42631   \n",
       "...                  ...                  ...        ...   \n",
       "20736             Polaca                  NaN      46554   \n",
       "20737               Gato                  NaN       4394   \n",
       "20738                                     NaN       4395   \n",
       "20739            Cicerón             Mesquita       5052   \n",
       "20740                                     NaN       4998   \n",
       "\n",
       "                                                 sources  \n",
       "0      [u'AGI,Patronato 175, r.9<><p><em>AG!</em> (Se...  \n",
       "1      [u'ANTT,CC,Parte II, maco 131, doc 54<><i>Inst...  \n",
       "2      [u'Pike,60-1,172<>Pike, Ruth, <i>Enterprise</i...  \n",
       "3      [u'Pike,60-1,172<>Pike, Ruth, <i>Enterprise</i...  \n",
       "4      [u'Chaunus, 3: 162-63<><p>Chaunus, <em>xxxxxx<...  \n",
       "...                                                  ...  \n",
       "20736  [u'AHNM, Ultramar, Leg. 3551, 6<><i>Archivo Hi...  \n",
       "20737  [u'IUP,ST,50/B/137<>Great Britain, <i>Irish Un...  \n",
       "20738  [u'IUP,ST,50/B/144<>Great Britain, <i>Irish Un...  \n",
       "20739  [u'IUP,ST,50/A/23-4<>Great Britain, <i>Irish U...  \n",
       "20740  [u'IUP,ST,50/B/220<>Great Britain, <i>Irish Un...  \n",
       "\n",
       "[20741 rows x 14 columns]"
      ]
     },
     "execution_count": 18,
     "metadata": {},
     "output_type": "execute_result"
    }
   ],
   "source": [
    "slave_voyages_df.rename(columns={'flag': 'national_affiliation'})"
   ]
  },
  {
   "cell_type": "markdown",
   "metadata": {},
   "source": [
    "Renaming the \"flag\" column as above will only momentarily change that column's name, however. If we display our DataFrame, we will see that the column name has *not* changed permamently."
   ]
  },
  {
   "cell_type": "code",
   "execution_count": 19,
   "metadata": {},
   "outputs": [
    {
     "data": {
      "text/html": [
       "<div>\n",
       "<style scoped>\n",
       "    .dataframe tbody tr th:only-of-type {\n",
       "        vertical-align: middle;\n",
       "    }\n",
       "\n",
       "    .dataframe tbody tr th {\n",
       "        vertical-align: top;\n",
       "    }\n",
       "\n",
       "    .dataframe thead th {\n",
       "        text-align: right;\n",
       "    }\n",
       "</style>\n",
       "<table border=\"1\" class=\"dataframe\">\n",
       "  <thead>\n",
       "    <tr style=\"text-align: right;\">\n",
       "      <th></th>\n",
       "      <th>year_of_arrival</th>\n",
       "      <th>flag</th>\n",
       "      <th>place_of_purchase</th>\n",
       "      <th>place_of_landing</th>\n",
       "      <th>percent_women</th>\n",
       "      <th>percent_children</th>\n",
       "      <th>percent_men</th>\n",
       "      <th>total_embarked</th>\n",
       "      <th>total_disembarked</th>\n",
       "      <th>resistance_label</th>\n",
       "      <th>vessel_name</th>\n",
       "      <th>captain's_name</th>\n",
       "      <th>voyage_id</th>\n",
       "      <th>sources</th>\n",
       "    </tr>\n",
       "  </thead>\n",
       "  <tbody>\n",
       "    <tr>\n",
       "      <th>0</th>\n",
       "      <td>1520</td>\n",
       "      <td>NaN</td>\n",
       "      <td>Portuguese Guinea</td>\n",
       "      <td>San Juan</td>\n",
       "      <td>NaN</td>\n",
       "      <td>NaN</td>\n",
       "      <td>NaN</td>\n",
       "      <td>324.0</td>\n",
       "      <td>259.0</td>\n",
       "      <td>NaN</td>\n",
       "      <td></td>\n",
       "      <td>NaN</td>\n",
       "      <td>42987</td>\n",
       "      <td>[u'AGI,Patronato 175, r.9&lt;&gt;&lt;p&gt;&lt;em&gt;AG!&lt;/em&gt; (Se...</td>\n",
       "    </tr>\n",
       "  </tbody>\n",
       "</table>\n",
       "</div>"
      ],
      "text/plain": [
       "   year_of_arrival flag  place_of_purchase place_of_landing  percent_women  \\\n",
       "0             1520  NaN  Portuguese Guinea         San Juan            NaN   \n",
       "\n",
       "   percent_children  percent_men  total_embarked  total_disembarked  \\\n",
       "0               NaN          NaN           324.0              259.0   \n",
       "\n",
       "  resistance_label vessel_name captain's_name  voyage_id  \\\n",
       "0              NaN                        NaN      42987   \n",
       "\n",
       "                                             sources  \n",
       "0  [u'AGI,Patronato 175, r.9<><p><em>AG!</em> (Se...  "
      ]
     },
     "execution_count": 19,
     "metadata": {},
     "output_type": "execute_result"
    }
   ],
   "source": [
    "slave_voyages_df.head(1)"
   ]
  },
  {
   "cell_type": "markdown",
   "metadata": {},
   "source": [
    "To save changes in the DataFrame, we need to reassign the DataFrame to the same variable."
   ]
  },
  {
   "cell_type": "code",
   "execution_count": 20,
   "metadata": {},
   "outputs": [],
   "source": [
    "slave_voyages_df = slave_voyages_df.rename(columns={'flag': 'national_affiliation'})"
   ]
  },
  {
   "cell_type": "code",
   "execution_count": 21,
   "metadata": {},
   "outputs": [
    {
     "data": {
      "text/html": [
       "<div>\n",
       "<style scoped>\n",
       "    .dataframe tbody tr th:only-of-type {\n",
       "        vertical-align: middle;\n",
       "    }\n",
       "\n",
       "    .dataframe tbody tr th {\n",
       "        vertical-align: top;\n",
       "    }\n",
       "\n",
       "    .dataframe thead th {\n",
       "        text-align: right;\n",
       "    }\n",
       "</style>\n",
       "<table border=\"1\" class=\"dataframe\">\n",
       "  <thead>\n",
       "    <tr style=\"text-align: right;\">\n",
       "      <th></th>\n",
       "      <th>year_of_arrival</th>\n",
       "      <th>national_affiliation</th>\n",
       "      <th>place_of_purchase</th>\n",
       "      <th>place_of_landing</th>\n",
       "      <th>percent_women</th>\n",
       "      <th>percent_children</th>\n",
       "      <th>percent_men</th>\n",
       "      <th>total_embarked</th>\n",
       "      <th>total_disembarked</th>\n",
       "      <th>resistance_label</th>\n",
       "      <th>vessel_name</th>\n",
       "      <th>captain's_name</th>\n",
       "      <th>voyage_id</th>\n",
       "      <th>sources</th>\n",
       "    </tr>\n",
       "  </thead>\n",
       "  <tbody>\n",
       "    <tr>\n",
       "      <th>0</th>\n",
       "      <td>1520</td>\n",
       "      <td>NaN</td>\n",
       "      <td>Portuguese Guinea</td>\n",
       "      <td>San Juan</td>\n",
       "      <td>NaN</td>\n",
       "      <td>NaN</td>\n",
       "      <td>NaN</td>\n",
       "      <td>324.0</td>\n",
       "      <td>259.0</td>\n",
       "      <td>NaN</td>\n",
       "      <td></td>\n",
       "      <td>NaN</td>\n",
       "      <td>42987</td>\n",
       "      <td>[u'AGI,Patronato 175, r.9&lt;&gt;&lt;p&gt;&lt;em&gt;AG!&lt;/em&gt; (Se...</td>\n",
       "    </tr>\n",
       "  </tbody>\n",
       "</table>\n",
       "</div>"
      ],
      "text/plain": [
       "   year_of_arrival national_affiliation  place_of_purchase place_of_landing  \\\n",
       "0             1520                  NaN  Portuguese Guinea         San Juan   \n",
       "\n",
       "   percent_women  percent_children  percent_men  total_embarked  \\\n",
       "0            NaN               NaN          NaN           324.0   \n",
       "\n",
       "   total_disembarked resistance_label vessel_name captain's_name  voyage_id  \\\n",
       "0              259.0              NaN                        NaN      42987   \n",
       "\n",
       "                                             sources  \n",
       "0  [u'AGI,Patronato 175, r.9<><p><em>AG!</em> (Se...  "
      ]
     },
     "execution_count": 21,
     "metadata": {},
     "output_type": "execute_result"
    }
   ],
   "source": [
    "slave_voyages_df.head(1)"
   ]
  },
  {
   "cell_type": "markdown",
   "metadata": {},
   "source": [
    "## Drop Columns"
   ]
  },
  {
   "cell_type": "markdown",
   "metadata": {},
   "source": [
    "We can remove a column from the DataFrame with the `.drop()` method and the column name."
   ]
  },
  {
   "cell_type": "code",
   "execution_count": 22,
   "metadata": {},
   "outputs": [],
   "source": [
    "slave_voyages_df = slave_voyages_df.drop(columns=\"sources\")"
   ]
  },
  {
   "cell_type": "code",
   "execution_count": 23,
   "metadata": {},
   "outputs": [
    {
     "data": {
      "text/plain": [
       "Index(['year_of_arrival', 'national_affiliation', 'place_of_purchase',\n",
       "       'place_of_landing', 'percent_women', 'percent_children', 'percent_men',\n",
       "       'total_embarked', 'total_disembarked', 'resistance_label',\n",
       "       'vessel_name', 'captain's_name', 'voyage_id'],\n",
       "      dtype='object')"
      ]
     },
     "execution_count": 23,
     "metadata": {},
     "output_type": "execute_result"
    }
   ],
   "source": [
    "slave_voyages_df.columns"
   ]
  },
  {
   "cell_type": "markdown",
   "metadata": {},
   "source": [
    "## Add Columns"
   ]
  },
  {
   "cell_type": "markdown",
   "metadata": {},
   "source": [
    "To add a column, we simply put a new column name in square brackets and set it equal to whatever we want the new column to be.\n",
    "\n",
    "For example, if we wanted to create new columns for the total women and men aboard each voyage, we could set them equal to the product of the \"total_disembarked\" column * the \"percent_women\" / \"percent_men\" columns."
   ]
  },
  {
   "cell_type": "code",
   "execution_count": 24,
   "metadata": {},
   "outputs": [],
   "source": [
    "slave_voyages_df['total_women'] = slave_voyages_df['total_embarked'] * slave_voyages_df['percent_women']"
   ]
  },
  {
   "cell_type": "code",
   "execution_count": 25,
   "metadata": {},
   "outputs": [],
   "source": [
    "slave_voyages_df['total_men'] = slave_voyages_df['total_embarked'] * slave_voyages_df['percent_men']"
   ]
  },
  {
   "cell_type": "markdown",
   "metadata": {},
   "source": [
    "If we scroll all the way to the right side of the DataFrame, we can see that these columns have been added."
   ]
  },
  {
   "cell_type": "code",
   "execution_count": 26,
   "metadata": {},
   "outputs": [
    {
     "data": {
      "text/html": [
       "<div>\n",
       "<style scoped>\n",
       "    .dataframe tbody tr th:only-of-type {\n",
       "        vertical-align: middle;\n",
       "    }\n",
       "\n",
       "    .dataframe tbody tr th {\n",
       "        vertical-align: top;\n",
       "    }\n",
       "\n",
       "    .dataframe thead th {\n",
       "        text-align: right;\n",
       "    }\n",
       "</style>\n",
       "<table border=\"1\" class=\"dataframe\">\n",
       "  <thead>\n",
       "    <tr style=\"text-align: right;\">\n",
       "      <th></th>\n",
       "      <th>year_of_arrival</th>\n",
       "      <th>national_affiliation</th>\n",
       "      <th>place_of_purchase</th>\n",
       "      <th>place_of_landing</th>\n",
       "      <th>percent_women</th>\n",
       "      <th>percent_children</th>\n",
       "      <th>percent_men</th>\n",
       "      <th>total_embarked</th>\n",
       "      <th>total_disembarked</th>\n",
       "      <th>resistance_label</th>\n",
       "      <th>vessel_name</th>\n",
       "      <th>captain's_name</th>\n",
       "      <th>voyage_id</th>\n",
       "      <th>total_women</th>\n",
       "      <th>total_men</th>\n",
       "    </tr>\n",
       "  </thead>\n",
       "  <tbody>\n",
       "    <tr>\n",
       "      <th>0</th>\n",
       "      <td>1520</td>\n",
       "      <td>NaN</td>\n",
       "      <td>Portuguese Guinea</td>\n",
       "      <td>San Juan</td>\n",
       "      <td>NaN</td>\n",
       "      <td>NaN</td>\n",
       "      <td>NaN</td>\n",
       "      <td>324.0</td>\n",
       "      <td>259.0</td>\n",
       "      <td>NaN</td>\n",
       "      <td></td>\n",
       "      <td>NaN</td>\n",
       "      <td>42987</td>\n",
       "      <td>NaN</td>\n",
       "      <td>NaN</td>\n",
       "    </tr>\n",
       "  </tbody>\n",
       "</table>\n",
       "</div>"
      ],
      "text/plain": [
       "   year_of_arrival national_affiliation  place_of_purchase place_of_landing  \\\n",
       "0             1520                  NaN  Portuguese Guinea         San Juan   \n",
       "\n",
       "   percent_women  percent_children  percent_men  total_embarked  \\\n",
       "0            NaN               NaN          NaN           324.0   \n",
       "\n",
       "   total_disembarked resistance_label vessel_name captain's_name  voyage_id  \\\n",
       "0              259.0              NaN                        NaN      42987   \n",
       "\n",
       "   total_women  total_men  \n",
       "0          NaN        NaN  "
      ]
     },
     "execution_count": 26,
     "metadata": {},
     "output_type": "execute_result"
    }
   ],
   "source": [
    "slave_voyages_df.head(1)"
   ]
  },
  {
   "cell_type": "markdown",
   "metadata": {},
   "source": [
    "## Sort Columns"
   ]
  },
  {
   "cell_type": "markdown",
   "metadata": {},
   "source": [
    "We can sort a DataFrame with the `.sort_values()` method, inside of which we include the parameter `by=` and indicate the name of the column we want to sort by (written in quotation marks).\n",
    "\n",
    "For example, we can sort the DataFrame by the voyages that had the largest proportion of enslaved women aboard."
   ]
  },
  {
   "cell_type": "code",
   "execution_count": null,
   "metadata": {},
   "outputs": [],
   "source": [
    "slave_voyages_df.sort_values(by='percent_women', ascending=False)"
   ]
  },
  {
   "cell_type": "markdown",
   "metadata": {},
   "source": [
    "By default, Pandas will sort in \"ascending\" order, from the smallest value to the largest value. If we want to sort the largest values first, we need to include another parameter `ascending=False`."
   ]
  },
  {
   "cell_type": "markdown",
   "metadata": {},
   "source": [
    "Because the DataFrame is truncated when it has more than 100 rows, we can use a Python list slice to view the top 30 (or any number less than 100) voyages with enslaved women aboard."
   ]
  },
  {
   "cell_type": "code",
   "execution_count": 28,
   "metadata": {
    "scrolled": true,
    "tags": [
     "output_scroll"
    ]
   },
   "outputs": [
    {
     "data": {
      "text/html": [
       "<div>\n",
       "<style scoped>\n",
       "    .dataframe tbody tr th:only-of-type {\n",
       "        vertical-align: middle;\n",
       "    }\n",
       "\n",
       "    .dataframe tbody tr th {\n",
       "        vertical-align: top;\n",
       "    }\n",
       "\n",
       "    .dataframe thead th {\n",
       "        text-align: right;\n",
       "    }\n",
       "</style>\n",
       "<table border=\"1\" class=\"dataframe\">\n",
       "  <thead>\n",
       "    <tr style=\"text-align: right;\">\n",
       "      <th></th>\n",
       "      <th>year_of_arrival</th>\n",
       "      <th>national_affiliation</th>\n",
       "      <th>place_of_purchase</th>\n",
       "      <th>place_of_landing</th>\n",
       "      <th>percent_women</th>\n",
       "      <th>percent_children</th>\n",
       "      <th>percent_men</th>\n",
       "      <th>total_embarked</th>\n",
       "      <th>total_disembarked</th>\n",
       "      <th>resistance_label</th>\n",
       "      <th>vessel_name</th>\n",
       "      <th>captain's_name</th>\n",
       "      <th>voyage_id</th>\n",
       "      <th>total_women</th>\n",
       "      <th>total_men</th>\n",
       "    </tr>\n",
       "  </thead>\n",
       "  <tbody>\n",
       "    <tr>\n",
       "      <th>19042</th>\n",
       "      <td>1819</td>\n",
       "      <td>Spain / Uruguay</td>\n",
       "      <td>Luanda</td>\n",
       "      <td>Havana</td>\n",
       "      <td>1.00000</td>\n",
       "      <td>0.00000</td>\n",
       "      <td>0.00000</td>\n",
       "      <td>82.0</td>\n",
       "      <td>73.0</td>\n",
       "      <td>NaN</td>\n",
       "      <td>S José Diligente</td>\n",
       "      <td>Estepa</td>\n",
       "      <td>14378</td>\n",
       "      <td>82.00000</td>\n",
       "      <td>0.00000</td>\n",
       "    </tr>\n",
       "    <tr>\n",
       "      <th>4269</th>\n",
       "      <td>1715</td>\n",
       "      <td>France</td>\n",
       "      <td>Senegambia and offshore Atlantic, port unspeci...</td>\n",
       "      <td>Cap Francais</td>\n",
       "      <td>0.74747</td>\n",
       "      <td>0.16162</td>\n",
       "      <td>0.09091</td>\n",
       "      <td>120.0</td>\n",
       "      <td>118.0</td>\n",
       "      <td>NaN</td>\n",
       "      <td>Elisabeth</td>\n",
       "      <td>Beliveau</td>\n",
       "      <td>31883</td>\n",
       "      <td>89.69640</td>\n",
       "      <td>10.90920</td>\n",
       "    </tr>\n",
       "    <tr>\n",
       "      <th>1741</th>\n",
       "      <td>1659</td>\n",
       "      <td>Netherlands</td>\n",
       "      <td>Bonny</td>\n",
       "      <td>Jamaica, port unspecified</td>\n",
       "      <td>0.72500</td>\n",
       "      <td>0.05882</td>\n",
       "      <td>0.27500</td>\n",
       "      <td>195.0</td>\n",
       "      <td>85.0</td>\n",
       "      <td>NaN</td>\n",
       "      <td>S Jan</td>\n",
       "      <td>Veer, Adriaen Blaes van der</td>\n",
       "      <td>21566</td>\n",
       "      <td>141.37500</td>\n",
       "      <td>53.62500</td>\n",
       "    </tr>\n",
       "    <tr>\n",
       "      <th>19047</th>\n",
       "      <td>1819</td>\n",
       "      <td>Spain / Uruguay</td>\n",
       "      <td>Africa., port unspecified</td>\n",
       "      <td>Havana</td>\n",
       "      <td>0.71429</td>\n",
       "      <td>0.00000</td>\n",
       "      <td>0.28571</td>\n",
       "      <td>178.0</td>\n",
       "      <td>161.0</td>\n",
       "      <td>NaN</td>\n",
       "      <td>Descubridor</td>\n",
       "      <td>Benoit&lt;br/&gt; Valdes</td>\n",
       "      <td>14868</td>\n",
       "      <td>127.14362</td>\n",
       "      <td>50.85638</td>\n",
       "    </tr>\n",
       "    <tr>\n",
       "      <th>18950</th>\n",
       "      <td>1818</td>\n",
       "      <td>Spain / Uruguay</td>\n",
       "      <td>Africa., port unspecified</td>\n",
       "      <td>Havana</td>\n",
       "      <td>0.69355</td>\n",
       "      <td>0.30645</td>\n",
       "      <td>0.00000</td>\n",
       "      <td>69.0</td>\n",
       "      <td>62.0</td>\n",
       "      <td>NaN</td>\n",
       "      <td>Vencedor</td>\n",
       "      <td>Iturrondo</td>\n",
       "      <td>14857</td>\n",
       "      <td>47.85495</td>\n",
       "      <td>0.00000</td>\n",
       "    </tr>\n",
       "    <tr>\n",
       "      <th>19037</th>\n",
       "      <td>1819</td>\n",
       "      <td>Spain / Uruguay</td>\n",
       "      <td>Ambriz</td>\n",
       "      <td>Havana</td>\n",
       "      <td>0.68456</td>\n",
       "      <td>0.00000</td>\n",
       "      <td>0.31544</td>\n",
       "      <td>164.0</td>\n",
       "      <td>149.0</td>\n",
       "      <td>NaN</td>\n",
       "      <td>Supremo Habanero</td>\n",
       "      <td>Blanco, Pedro</td>\n",
       "      <td>14372</td>\n",
       "      <td>112.26784</td>\n",
       "      <td>51.73216</td>\n",
       "    </tr>\n",
       "    <tr>\n",
       "      <th>4894</th>\n",
       "      <td>1721</td>\n",
       "      <td>France</td>\n",
       "      <td>Benin</td>\n",
       "      <td>Martinique, port unspecified</td>\n",
       "      <td>0.67797</td>\n",
       "      <td>0.15254</td>\n",
       "      <td>0.16949</td>\n",
       "      <td>69.0</td>\n",
       "      <td>59.0</td>\n",
       "      <td>NaN</td>\n",
       "      <td>Saint Jean Triomphant</td>\n",
       "      <td>Gaulart, J</td>\n",
       "      <td>33087</td>\n",
       "      <td>46.77993</td>\n",
       "      <td>11.69481</td>\n",
       "    </tr>\n",
       "    <tr>\n",
       "      <th>4150</th>\n",
       "      <td>1714</td>\n",
       "      <td>Great Britain</td>\n",
       "      <td>Calabar</td>\n",
       "      <td>Saint John (Antigua)</td>\n",
       "      <td>0.66667</td>\n",
       "      <td>0.16667</td>\n",
       "      <td>0.33333</td>\n",
       "      <td>360.0</td>\n",
       "      <td>240.0</td>\n",
       "      <td>NaN</td>\n",
       "      <td>Florida</td>\n",
       "      <td>Payne, Samuel</td>\n",
       "      <td>75489</td>\n",
       "      <td>240.00120</td>\n",
       "      <td>119.99880</td>\n",
       "    </tr>\n",
       "    <tr>\n",
       "      <th>6259</th>\n",
       "      <td>1734</td>\n",
       "      <td>Netherlands</td>\n",
       "      <td>Jacquin</td>\n",
       "      <td>Suriname</td>\n",
       "      <td>0.66480</td>\n",
       "      <td>0.09078</td>\n",
       "      <td>0.24441</td>\n",
       "      <td>716.0</td>\n",
       "      <td>374.0</td>\n",
       "      <td>NaN</td>\n",
       "      <td>Rusthof</td>\n",
       "      <td>Bovenmans, Anthony&lt;br/&gt; Theunissen, Willem</td>\n",
       "      <td>10278</td>\n",
       "      <td>475.99680</td>\n",
       "      <td>174.99756</td>\n",
       "    </tr>\n",
       "    <tr>\n",
       "      <th>1823</th>\n",
       "      <td>1664</td>\n",
       "      <td>Great Britain</td>\n",
       "      <td>New Calabar</td>\n",
       "      <td>Barbados, port unspecified</td>\n",
       "      <td>0.65217</td>\n",
       "      <td>0.08696</td>\n",
       "      <td>0.26087</td>\n",
       "      <td>242.0</td>\n",
       "      <td>168.0</td>\n",
       "      <td>NaN</td>\n",
       "      <td>Elizabeth</td>\n",
       "      <td>Francis, William</td>\n",
       "      <td>9558</td>\n",
       "      <td>157.82514</td>\n",
       "      <td>63.13054</td>\n",
       "    </tr>\n",
       "    <tr>\n",
       "      <th>1799</th>\n",
       "      <td>1663</td>\n",
       "      <td>Great Britain</td>\n",
       "      <td>Ardra</td>\n",
       "      <td>Barbados, port unspecified</td>\n",
       "      <td>0.64667</td>\n",
       "      <td>0.00000</td>\n",
       "      <td>0.35333</td>\n",
       "      <td>373.0</td>\n",
       "      <td>150.0</td>\n",
       "      <td>NaN</td>\n",
       "      <td>Blackamore</td>\n",
       "      <td>Bowles</td>\n",
       "      <td>9552</td>\n",
       "      <td>241.20791</td>\n",
       "      <td>131.79209</td>\n",
       "    </tr>\n",
       "    <tr>\n",
       "      <th>15471</th>\n",
       "      <td>1792</td>\n",
       "      <td>Great Britain</td>\n",
       "      <td>Calabar</td>\n",
       "      <td>Grenada, port unspecified</td>\n",
       "      <td>0.64646</td>\n",
       "      <td>0.06965</td>\n",
       "      <td>0.29798</td>\n",
       "      <td>200.0</td>\n",
       "      <td>135.0</td>\n",
       "      <td>NaN</td>\n",
       "      <td>Fame</td>\n",
       "      <td>Jenkins, William</td>\n",
       "      <td>18138</td>\n",
       "      <td>129.29200</td>\n",
       "      <td>59.59600</td>\n",
       "    </tr>\n",
       "    <tr>\n",
       "      <th>1824</th>\n",
       "      <td>1664</td>\n",
       "      <td>Great Britain</td>\n",
       "      <td>Bight of Biafra and Gulf of Guinea Islands, po...</td>\n",
       "      <td>Jamaica, port unspecified</td>\n",
       "      <td>0.64324</td>\n",
       "      <td>0.12973</td>\n",
       "      <td>0.22703</td>\n",
       "      <td>267.0</td>\n",
       "      <td>185.0</td>\n",
       "      <td>NaN</td>\n",
       "      <td>Allepine</td>\n",
       "      <td>Thwaites, William</td>\n",
       "      <td>9559</td>\n",
       "      <td>171.74508</td>\n",
       "      <td>60.61701</td>\n",
       "    </tr>\n",
       "    <tr>\n",
       "      <th>5049</th>\n",
       "      <td>1723</td>\n",
       "      <td>Great Britain</td>\n",
       "      <td>Cabinda</td>\n",
       "      <td>Jamaica, port unspecified</td>\n",
       "      <td>0.64141</td>\n",
       "      <td>0.26768</td>\n",
       "      <td>0.09091</td>\n",
       "      <td>201.0</td>\n",
       "      <td>198.0</td>\n",
       "      <td>NaN</td>\n",
       "      <td>Royal African Packet</td>\n",
       "      <td>Cornwell, Henry</td>\n",
       "      <td>76460</td>\n",
       "      <td>128.92341</td>\n",
       "      <td>18.27291</td>\n",
       "    </tr>\n",
       "    <tr>\n",
       "      <th>2151</th>\n",
       "      <td>1677</td>\n",
       "      <td>Great Britain</td>\n",
       "      <td>Calabar</td>\n",
       "      <td>Barbados, port unspecified</td>\n",
       "      <td>0.63816</td>\n",
       "      <td>0.03289</td>\n",
       "      <td>0.32895</td>\n",
       "      <td>219.0</td>\n",
       "      <td>152.0</td>\n",
       "      <td>NaN</td>\n",
       "      <td>Lenox</td>\n",
       "      <td>Wilkins, Amos</td>\n",
       "      <td>9980</td>\n",
       "      <td>139.75704</td>\n",
       "      <td>72.04005</td>\n",
       "    </tr>\n",
       "    <tr>\n",
       "      <th>17618</th>\n",
       "      <td>1804</td>\n",
       "      <td>Spain / Uruguay</td>\n",
       "      <td>Africa., port unspecified</td>\n",
       "      <td>Buenos Aires</td>\n",
       "      <td>0.63333</td>\n",
       "      <td>0.05000</td>\n",
       "      <td>0.31667</td>\n",
       "      <td>160.0</td>\n",
       "      <td>81.0</td>\n",
       "      <td>NaN</td>\n",
       "      <td>S Ana</td>\n",
       "      <td>Amaro, Rodriguez de Oliveira</td>\n",
       "      <td>96099</td>\n",
       "      <td>101.33280</td>\n",
       "      <td>50.66720</td>\n",
       "    </tr>\n",
       "    <tr>\n",
       "      <th>19040</th>\n",
       "      <td>1819</td>\n",
       "      <td>Spain / Uruguay</td>\n",
       "      <td>Luanda</td>\n",
       "      <td>Havana</td>\n",
       "      <td>0.62201</td>\n",
       "      <td>0.00000</td>\n",
       "      <td>0.37799</td>\n",
       "      <td>219.0</td>\n",
       "      <td>209.0</td>\n",
       "      <td>NaN</td>\n",
       "      <td>Clarita</td>\n",
       "      <td>Carballo, Alberto</td>\n",
       "      <td>14375</td>\n",
       "      <td>136.22019</td>\n",
       "      <td>82.77981</td>\n",
       "    </tr>\n",
       "    <tr>\n",
       "      <th>2318</th>\n",
       "      <td>1681</td>\n",
       "      <td>Great Britain</td>\n",
       "      <td>Gold Coast, port unspecified</td>\n",
       "      <td>Jamaica, port unspecified</td>\n",
       "      <td>0.62048</td>\n",
       "      <td>0.07831</td>\n",
       "      <td>0.30120</td>\n",
       "      <td>400.0</td>\n",
       "      <td>170.0</td>\n",
       "      <td>NaN</td>\n",
       "      <td>African</td>\n",
       "      <td>Mingham, John</td>\n",
       "      <td>9918</td>\n",
       "      <td>248.19200</td>\n",
       "      <td>120.48000</td>\n",
       "    </tr>\n",
       "    <tr>\n",
       "      <th>4364</th>\n",
       "      <td>1716</td>\n",
       "      <td>France</td>\n",
       "      <td>Goree</td>\n",
       "      <td>Leogane</td>\n",
       "      <td>0.62025</td>\n",
       "      <td>0.20736</td>\n",
       "      <td>0.37975</td>\n",
       "      <td>411.0</td>\n",
       "      <td>402.0</td>\n",
       "      <td>NaN</td>\n",
       "      <td>Duc d'Orléans</td>\n",
       "      <td>Villers, Chevalier de</td>\n",
       "      <td>31886</td>\n",
       "      <td>254.92275</td>\n",
       "      <td>156.07725</td>\n",
       "    </tr>\n",
       "    <tr>\n",
       "      <th>5259</th>\n",
       "      <td>1725</td>\n",
       "      <td>France</td>\n",
       "      <td>Senegambia and offshore Atlantic, port unspeci...</td>\n",
       "      <td>Cap Francais</td>\n",
       "      <td>0.61353</td>\n",
       "      <td>0.05314</td>\n",
       "      <td>0.33333</td>\n",
       "      <td>210.0</td>\n",
       "      <td>207.0</td>\n",
       "      <td>NaN</td>\n",
       "      <td>Prothée</td>\n",
       "      <td>Hantier, J</td>\n",
       "      <td>32873</td>\n",
       "      <td>128.84130</td>\n",
       "      <td>69.99930</td>\n",
       "    </tr>\n",
       "    <tr>\n",
       "      <th>4773</th>\n",
       "      <td>1720</td>\n",
       "      <td>France</td>\n",
       "      <td>Formosa</td>\n",
       "      <td>Martinique, port unspecified</td>\n",
       "      <td>0.61207</td>\n",
       "      <td>0.25862</td>\n",
       "      <td>0.12931</td>\n",
       "      <td>215.0</td>\n",
       "      <td>176.0</td>\n",
       "      <td>Slave insurrection</td>\n",
       "      <td>Don de Dieu</td>\n",
       "      <td>Masson Du Bocage, Guillaume</td>\n",
       "      <td>33119</td>\n",
       "      <td>131.59505</td>\n",
       "      <td>27.80165</td>\n",
       "    </tr>\n",
       "    <tr>\n",
       "      <th>2591</th>\n",
       "      <td>1686</td>\n",
       "      <td>Great Britain</td>\n",
       "      <td>New Calabar</td>\n",
       "      <td>Newcastle (Nevis)</td>\n",
       "      <td>0.60656</td>\n",
       "      <td>0.14754</td>\n",
       "      <td>0.24590</td>\n",
       "      <td>267.0</td>\n",
       "      <td>111.0</td>\n",
       "      <td>NaN</td>\n",
       "      <td>Francis</td>\n",
       "      <td>Wimple, Ralph</td>\n",
       "      <td>9838</td>\n",
       "      <td>161.95152</td>\n",
       "      <td>65.65530</td>\n",
       "    </tr>\n",
       "    <tr>\n",
       "      <th>2182</th>\n",
       "      <td>1678</td>\n",
       "      <td>Great Britain</td>\n",
       "      <td>Calabar</td>\n",
       "      <td>Jamaica, port unspecified</td>\n",
       "      <td>0.60526</td>\n",
       "      <td>0.04605</td>\n",
       "      <td>0.34868</td>\n",
       "      <td>219.0</td>\n",
       "      <td>152.0</td>\n",
       "      <td>NaN</td>\n",
       "      <td>Vine</td>\n",
       "      <td>Coleman, John</td>\n",
       "      <td>9987</td>\n",
       "      <td>132.55194</td>\n",
       "      <td>76.36092</td>\n",
       "    </tr>\n",
       "    <tr>\n",
       "      <th>5543</th>\n",
       "      <td>1727</td>\n",
       "      <td>Great Britain</td>\n",
       "      <td>Africa., port unspecified</td>\n",
       "      <td>Rappahannock</td>\n",
       "      <td>0.60440</td>\n",
       "      <td>0.35000</td>\n",
       "      <td>0.39560</td>\n",
       "      <td>161.0</td>\n",
       "      <td>140.0</td>\n",
       "      <td>NaN</td>\n",
       "      <td>John and Betty</td>\n",
       "      <td>Denton, William</td>\n",
       "      <td>92352</td>\n",
       "      <td>97.30840</td>\n",
       "      <td>63.69160</td>\n",
       "    </tr>\n",
       "    <tr>\n",
       "      <th>2540</th>\n",
       "      <td>1685</td>\n",
       "      <td>Great Britain</td>\n",
       "      <td>Cape Coast Castle</td>\n",
       "      <td>Jamaica, port unspecified</td>\n",
       "      <td>0.59917</td>\n",
       "      <td>0.00000</td>\n",
       "      <td>0.40083</td>\n",
       "      <td>310.0</td>\n",
       "      <td>242.0</td>\n",
       "      <td>NaN</td>\n",
       "      <td>Jefferie</td>\n",
       "      <td>Daile, Benjamin</td>\n",
       "      <td>9669</td>\n",
       "      <td>185.74270</td>\n",
       "      <td>124.25730</td>\n",
       "    </tr>\n",
       "    <tr>\n",
       "      <th>4736</th>\n",
       "      <td>1719</td>\n",
       "      <td>France</td>\n",
       "      <td>Africa., port unspecified</td>\n",
       "      <td>Cayenne</td>\n",
       "      <td>0.59524</td>\n",
       "      <td>0.16667</td>\n",
       "      <td>0.23810</td>\n",
       "      <td>52.0</td>\n",
       "      <td>42.0</td>\n",
       "      <td>NaN</td>\n",
       "      <td>Fidèle</td>\n",
       "      <td>Bonneau, Jean</td>\n",
       "      <td>30111</td>\n",
       "      <td>30.95248</td>\n",
       "      <td>12.38120</td>\n",
       "    </tr>\n",
       "    <tr>\n",
       "      <th>2327</th>\n",
       "      <td>1681</td>\n",
       "      <td>Great Britain</td>\n",
       "      <td>New Calabar</td>\n",
       "      <td>Barbados, port unspecified</td>\n",
       "      <td>0.59231</td>\n",
       "      <td>0.06923</td>\n",
       "      <td>0.33846</td>\n",
       "      <td>232.0</td>\n",
       "      <td>130.0</td>\n",
       "      <td>NaN</td>\n",
       "      <td>Hope</td>\n",
       "      <td>Grible, John</td>\n",
       "      <td>9927</td>\n",
       "      <td>137.41592</td>\n",
       "      <td>78.52272</td>\n",
       "    </tr>\n",
       "    <tr>\n",
       "      <th>2377</th>\n",
       "      <td>1682</td>\n",
       "      <td>Great Britain</td>\n",
       "      <td>Calabar</td>\n",
       "      <td>Jamaica, port unspecified</td>\n",
       "      <td>0.58879</td>\n",
       "      <td>0.08411</td>\n",
       "      <td>0.32710</td>\n",
       "      <td>164.0</td>\n",
       "      <td>114.0</td>\n",
       "      <td>NaN</td>\n",
       "      <td>Arthur</td>\n",
       "      <td>Penny, George</td>\n",
       "      <td>9898</td>\n",
       "      <td>96.56156</td>\n",
       "      <td>53.64440</td>\n",
       "    </tr>\n",
       "    <tr>\n",
       "      <th>2376</th>\n",
       "      <td>1682</td>\n",
       "      <td>Great Britain</td>\n",
       "      <td>Calabar</td>\n",
       "      <td>Newcastle (Nevis)</td>\n",
       "      <td>0.58696</td>\n",
       "      <td>0.11957</td>\n",
       "      <td>0.29348</td>\n",
       "      <td>146.0</td>\n",
       "      <td>119.0</td>\n",
       "      <td>NaN</td>\n",
       "      <td>Eaglet</td>\n",
       "      <td>Waugh, John</td>\n",
       "      <td>9896</td>\n",
       "      <td>85.69616</td>\n",
       "      <td>42.84808</td>\n",
       "    </tr>\n",
       "    <tr>\n",
       "      <th>1833</th>\n",
       "      <td>1664</td>\n",
       "      <td>Great Britain</td>\n",
       "      <td>Calabar</td>\n",
       "      <td>Barbados, port unspecified</td>\n",
       "      <td>0.58549</td>\n",
       "      <td>0.15544</td>\n",
       "      <td>0.25907</td>\n",
       "      <td>278.0</td>\n",
       "      <td>193.0</td>\n",
       "      <td>NaN</td>\n",
       "      <td>Success</td>\n",
       "      <td>Duke, Abraham</td>\n",
       "      <td>9584</td>\n",
       "      <td>162.76622</td>\n",
       "      <td>72.02146</td>\n",
       "    </tr>\n",
       "  </tbody>\n",
       "</table>\n",
       "</div>"
      ],
      "text/plain": [
       "       year_of_arrival national_affiliation  \\\n",
       "19042             1819      Spain / Uruguay   \n",
       "4269              1715               France   \n",
       "1741              1659          Netherlands   \n",
       "19047             1819      Spain / Uruguay   \n",
       "18950             1818      Spain / Uruguay   \n",
       "19037             1819      Spain / Uruguay   \n",
       "4894              1721               France   \n",
       "4150              1714        Great Britain   \n",
       "6259              1734          Netherlands   \n",
       "1823              1664        Great Britain   \n",
       "1799              1663        Great Britain   \n",
       "15471             1792        Great Britain   \n",
       "1824              1664        Great Britain   \n",
       "5049              1723        Great Britain   \n",
       "2151              1677        Great Britain   \n",
       "17618             1804      Spain / Uruguay   \n",
       "19040             1819      Spain / Uruguay   \n",
       "2318              1681        Great Britain   \n",
       "4364              1716               France   \n",
       "5259              1725               France   \n",
       "4773              1720               France   \n",
       "2591              1686        Great Britain   \n",
       "2182              1678        Great Britain   \n",
       "5543              1727        Great Britain   \n",
       "2540              1685        Great Britain   \n",
       "4736              1719               France   \n",
       "2327              1681        Great Britain   \n",
       "2377              1682        Great Britain   \n",
       "2376              1682        Great Britain   \n",
       "1833              1664        Great Britain   \n",
       "\n",
       "                                       place_of_purchase  \\\n",
       "19042                                             Luanda   \n",
       "4269   Senegambia and offshore Atlantic, port unspeci...   \n",
       "1741                                               Bonny   \n",
       "19047                          Africa., port unspecified   \n",
       "18950                          Africa., port unspecified   \n",
       "19037                                             Ambriz   \n",
       "4894                                               Benin   \n",
       "4150                                             Calabar   \n",
       "6259                                             Jacquin   \n",
       "1823                                         New Calabar   \n",
       "1799                                               Ardra   \n",
       "15471                                            Calabar   \n",
       "1824   Bight of Biafra and Gulf of Guinea Islands, po...   \n",
       "5049                                             Cabinda   \n",
       "2151                                             Calabar   \n",
       "17618                          Africa., port unspecified   \n",
       "19040                                             Luanda   \n",
       "2318                        Gold Coast, port unspecified   \n",
       "4364                                               Goree   \n",
       "5259   Senegambia and offshore Atlantic, port unspeci...   \n",
       "4773                                             Formosa   \n",
       "2591                                         New Calabar   \n",
       "2182                                             Calabar   \n",
       "5543                           Africa., port unspecified   \n",
       "2540                                   Cape Coast Castle   \n",
       "4736                           Africa., port unspecified   \n",
       "2327                                         New Calabar   \n",
       "2377                                             Calabar   \n",
       "2376                                             Calabar   \n",
       "1833                                             Calabar   \n",
       "\n",
       "                   place_of_landing  percent_women  percent_children  \\\n",
       "19042                        Havana        1.00000           0.00000   \n",
       "4269                   Cap Francais        0.74747           0.16162   \n",
       "1741      Jamaica, port unspecified        0.72500           0.05882   \n",
       "19047                        Havana        0.71429           0.00000   \n",
       "18950                        Havana        0.69355           0.30645   \n",
       "19037                        Havana        0.68456           0.00000   \n",
       "4894   Martinique, port unspecified        0.67797           0.15254   \n",
       "4150           Saint John (Antigua)        0.66667           0.16667   \n",
       "6259                       Suriname        0.66480           0.09078   \n",
       "1823     Barbados, port unspecified        0.65217           0.08696   \n",
       "1799     Barbados, port unspecified        0.64667           0.00000   \n",
       "15471     Grenada, port unspecified        0.64646           0.06965   \n",
       "1824      Jamaica, port unspecified        0.64324           0.12973   \n",
       "5049      Jamaica, port unspecified        0.64141           0.26768   \n",
       "2151     Barbados, port unspecified        0.63816           0.03289   \n",
       "17618                  Buenos Aires        0.63333           0.05000   \n",
       "19040                        Havana        0.62201           0.00000   \n",
       "2318      Jamaica, port unspecified        0.62048           0.07831   \n",
       "4364                        Leogane        0.62025           0.20736   \n",
       "5259                   Cap Francais        0.61353           0.05314   \n",
       "4773   Martinique, port unspecified        0.61207           0.25862   \n",
       "2591              Newcastle (Nevis)        0.60656           0.14754   \n",
       "2182      Jamaica, port unspecified        0.60526           0.04605   \n",
       "5543                   Rappahannock        0.60440           0.35000   \n",
       "2540      Jamaica, port unspecified        0.59917           0.00000   \n",
       "4736                        Cayenne        0.59524           0.16667   \n",
       "2327     Barbados, port unspecified        0.59231           0.06923   \n",
       "2377      Jamaica, port unspecified        0.58879           0.08411   \n",
       "2376              Newcastle (Nevis)        0.58696           0.11957   \n",
       "1833     Barbados, port unspecified        0.58549           0.15544   \n",
       "\n",
       "       percent_men  total_embarked  total_disembarked    resistance_label  \\\n",
       "19042      0.00000            82.0               73.0                 NaN   \n",
       "4269       0.09091           120.0              118.0                 NaN   \n",
       "1741       0.27500           195.0               85.0                 NaN   \n",
       "19047      0.28571           178.0              161.0                 NaN   \n",
       "18950      0.00000            69.0               62.0                 NaN   \n",
       "19037      0.31544           164.0              149.0                 NaN   \n",
       "4894       0.16949            69.0               59.0                 NaN   \n",
       "4150       0.33333           360.0              240.0                 NaN   \n",
       "6259       0.24441           716.0              374.0                 NaN   \n",
       "1823       0.26087           242.0              168.0                 NaN   \n",
       "1799       0.35333           373.0              150.0                 NaN   \n",
       "15471      0.29798           200.0              135.0                 NaN   \n",
       "1824       0.22703           267.0              185.0                 NaN   \n",
       "5049       0.09091           201.0              198.0                 NaN   \n",
       "2151       0.32895           219.0              152.0                 NaN   \n",
       "17618      0.31667           160.0               81.0                 NaN   \n",
       "19040      0.37799           219.0              209.0                 NaN   \n",
       "2318       0.30120           400.0              170.0                 NaN   \n",
       "4364       0.37975           411.0              402.0                 NaN   \n",
       "5259       0.33333           210.0              207.0                 NaN   \n",
       "4773       0.12931           215.0              176.0  Slave insurrection   \n",
       "2591       0.24590           267.0              111.0                 NaN   \n",
       "2182       0.34868           219.0              152.0                 NaN   \n",
       "5543       0.39560           161.0              140.0                 NaN   \n",
       "2540       0.40083           310.0              242.0                 NaN   \n",
       "4736       0.23810            52.0               42.0                 NaN   \n",
       "2327       0.33846           232.0              130.0                 NaN   \n",
       "2377       0.32710           164.0              114.0                 NaN   \n",
       "2376       0.29348           146.0              119.0                 NaN   \n",
       "1833       0.25907           278.0              193.0                 NaN   \n",
       "\n",
       "                 vessel_name                              captain's_name  \\\n",
       "19042       S José Diligente                                      Estepa   \n",
       "4269               Elisabeth                                    Beliveau   \n",
       "1741                   S Jan                 Veer, Adriaen Blaes van der   \n",
       "19047            Descubridor                          Benoit<br/> Valdes   \n",
       "18950               Vencedor                                   Iturrondo   \n",
       "19037       Supremo Habanero                               Blanco, Pedro   \n",
       "4894   Saint Jean Triomphant                                  Gaulart, J   \n",
       "4150                 Florida                               Payne, Samuel   \n",
       "6259                 Rusthof  Bovenmans, Anthony<br/> Theunissen, Willem   \n",
       "1823               Elizabeth                            Francis, William   \n",
       "1799              Blackamore                                      Bowles   \n",
       "15471                   Fame                            Jenkins, William   \n",
       "1824                Allepine                           Thwaites, William   \n",
       "5049    Royal African Packet                             Cornwell, Henry   \n",
       "2151                   Lenox                               Wilkins, Amos   \n",
       "17618                  S Ana                Amaro, Rodriguez de Oliveira   \n",
       "19040                Clarita                           Carballo, Alberto   \n",
       "2318                 African                               Mingham, John   \n",
       "4364           Duc d'Orléans                       Villers, Chevalier de   \n",
       "5259                 Prothée                                  Hantier, J   \n",
       "4773             Don de Dieu                 Masson Du Bocage, Guillaume   \n",
       "2591                 Francis                               Wimple, Ralph   \n",
       "2182                    Vine                               Coleman, John   \n",
       "5543          John and Betty                             Denton, William   \n",
       "2540                Jefferie                             Daile, Benjamin   \n",
       "4736                  Fidèle                               Bonneau, Jean   \n",
       "2327                    Hope                                Grible, John   \n",
       "2377                  Arthur                               Penny, George   \n",
       "2376                  Eaglet                                 Waugh, John   \n",
       "1833                 Success                               Duke, Abraham   \n",
       "\n",
       "       voyage_id  total_women  total_men  \n",
       "19042      14378     82.00000    0.00000  \n",
       "4269       31883     89.69640   10.90920  \n",
       "1741       21566    141.37500   53.62500  \n",
       "19047      14868    127.14362   50.85638  \n",
       "18950      14857     47.85495    0.00000  \n",
       "19037      14372    112.26784   51.73216  \n",
       "4894       33087     46.77993   11.69481  \n",
       "4150       75489    240.00120  119.99880  \n",
       "6259       10278    475.99680  174.99756  \n",
       "1823        9558    157.82514   63.13054  \n",
       "1799        9552    241.20791  131.79209  \n",
       "15471      18138    129.29200   59.59600  \n",
       "1824        9559    171.74508   60.61701  \n",
       "5049       76460    128.92341   18.27291  \n",
       "2151        9980    139.75704   72.04005  \n",
       "17618      96099    101.33280   50.66720  \n",
       "19040      14375    136.22019   82.77981  \n",
       "2318        9918    248.19200  120.48000  \n",
       "4364       31886    254.92275  156.07725  \n",
       "5259       32873    128.84130   69.99930  \n",
       "4773       33119    131.59505   27.80165  \n",
       "2591        9838    161.95152   65.65530  \n",
       "2182        9987    132.55194   76.36092  \n",
       "5543       92352     97.30840   63.69160  \n",
       "2540        9669    185.74270  124.25730  \n",
       "4736       30111     30.95248   12.38120  \n",
       "2327        9927    137.41592   78.52272  \n",
       "2377        9898     96.56156   53.64440  \n",
       "2376        9896     85.69616   42.84808  \n",
       "1833        9584    162.76622   72.02146  "
      ]
     },
     "execution_count": 28,
     "metadata": {},
     "output_type": "execute_result"
    }
   ],
   "source": [
    "slave_voyages_df.sort_values(by='percent_women', ascending=False)[:30]"
   ]
  },
  {
   "cell_type": "markdown",
   "metadata": {},
   "source": [
    "If we want to sort a Series object, we don't need to use the `by=` paramter."
   ]
  },
  {
   "cell_type": "code",
   "execution_count": 27,
   "metadata": {},
   "outputs": [
    {
     "data": {
      "text/plain": [
       "6259     475.996800\n",
       "18822    316.640164\n",
       "2264     311.833480\n",
       "6163     303.000180\n",
       "3129     301.764000\n",
       "            ...    \n",
       "20736           NaN\n",
       "20737           NaN\n",
       "20738           NaN\n",
       "20739           NaN\n",
       "20740           NaN\n",
       "Name: total_women, Length: 20741, dtype: float64"
      ]
     },
     "execution_count": 27,
     "metadata": {},
     "output_type": "execute_result"
    }
   ],
   "source": [
    "slave_voyages_df['total_women'].sort_values(ascending=False)"
   ]
  },
  {
   "cell_type": "markdown",
   "metadata": {},
   "source": [
    "## Calculate Columns"
   ]
  },
  {
   "cell_type": "markdown",
   "metadata": {},
   "source": [
    "We can do different calculations on columns with built-in Pandas functions. These calculations will ignore `NaN` values."
   ]
  },
  {
   "cell_type": "markdown",
   "metadata": {},
   "source": [
    "| Pandas calculations | Explanation                         |\n",
    "|----------|-------------------------------------|\n",
    "| `.count()`    | Number of observations    |\n",
    "| `.sum()`      | Sum of values                       |\n",
    "| `.mean()`     | Mean of values                      |\n",
    "| `.median()`   | Median of values         |\n",
    "| `.min()`      | Minimum                             |\n",
    "| `.max()`      | Maximum                             |\n",
    "| `.mode()`     | Mode                                |\n",
    "| `.std()`      | Unbiased standard deviation         |\n",
    "\n"
   ]
  },
  {
   "cell_type": "markdown",
   "metadata": {},
   "source": [
    "For example, to find the average proprotion of enslaved women aboard the voyages (for voyages that have this information), we can use the `.mean()` method."
   ]
  },
  {
   "cell_type": "code",
   "execution_count": 29,
   "metadata": {},
   "outputs": [
    {
     "data": {
      "text/plain": [
       "np.float64(0.27419760653973735)"
      ]
     },
     "execution_count": 29,
     "metadata": {},
     "output_type": "execute_result"
    }
   ],
   "source": [
    "slave_voyages_df['percent_women'].mean()"
   ]
  },
  {
   "cell_type": "markdown",
   "metadata": {},
   "source": [
    "There were on average 27% enslaved women aboard the voyages for voyages that recorded this information."
   ]
  },
  {
   "cell_type": "code",
   "execution_count": 30,
   "metadata": {},
   "outputs": [
    {
     "data": {
      "text/plain": [
       "np.float64(1.0)"
      ]
     },
     "execution_count": 30,
     "metadata": {},
     "output_type": "execute_result"
    }
   ],
   "source": [
    "slave_voyages_df['percent_women'].max()"
   ]
  },
  {
   "cell_type": "markdown",
   "metadata": {},
   "source": [
    "The highest percentage of women aboard the slave voyages was 100%. We can use this calculation as a filter to identify the voyage(s) with this maximum value."
   ]
  },
  {
   "cell_type": "code",
   "execution_count": 31,
   "metadata": {},
   "outputs": [
    {
     "data": {
      "text/html": [
       "<div>\n",
       "<style scoped>\n",
       "    .dataframe tbody tr th:only-of-type {\n",
       "        vertical-align: middle;\n",
       "    }\n",
       "\n",
       "    .dataframe tbody tr th {\n",
       "        vertical-align: top;\n",
       "    }\n",
       "\n",
       "    .dataframe thead th {\n",
       "        text-align: right;\n",
       "    }\n",
       "</style>\n",
       "<table border=\"1\" class=\"dataframe\">\n",
       "  <thead>\n",
       "    <tr style=\"text-align: right;\">\n",
       "      <th></th>\n",
       "      <th>year_of_arrival</th>\n",
       "      <th>national_affiliation</th>\n",
       "      <th>place_of_purchase</th>\n",
       "      <th>place_of_landing</th>\n",
       "      <th>percent_women</th>\n",
       "      <th>percent_children</th>\n",
       "      <th>percent_men</th>\n",
       "      <th>total_embarked</th>\n",
       "      <th>total_disembarked</th>\n",
       "      <th>resistance_label</th>\n",
       "      <th>vessel_name</th>\n",
       "      <th>captain's_name</th>\n",
       "      <th>voyage_id</th>\n",
       "      <th>total_women</th>\n",
       "      <th>total_men</th>\n",
       "    </tr>\n",
       "  </thead>\n",
       "  <tbody>\n",
       "    <tr>\n",
       "      <th>19042</th>\n",
       "      <td>1819</td>\n",
       "      <td>Spain / Uruguay</td>\n",
       "      <td>Luanda</td>\n",
       "      <td>Havana</td>\n",
       "      <td>1.0</td>\n",
       "      <td>0.0</td>\n",
       "      <td>0.0</td>\n",
       "      <td>82.0</td>\n",
       "      <td>73.0</td>\n",
       "      <td>NaN</td>\n",
       "      <td>S José Diligente</td>\n",
       "      <td>Estepa</td>\n",
       "      <td>14378</td>\n",
       "      <td>82.0</td>\n",
       "      <td>0.0</td>\n",
       "    </tr>\n",
       "  </tbody>\n",
       "</table>\n",
       "</div>"
      ],
      "text/plain": [
       "       year_of_arrival national_affiliation place_of_purchase  \\\n",
       "19042             1819      Spain / Uruguay            Luanda   \n",
       "\n",
       "      place_of_landing  percent_women  percent_children  percent_men  \\\n",
       "19042           Havana            1.0               0.0          0.0   \n",
       "\n",
       "       total_embarked  total_disembarked resistance_label       vessel_name  \\\n",
       "19042            82.0               73.0              NaN  S José Diligente   \n",
       "\n",
       "      captain's_name  voyage_id  total_women  total_men  \n",
       "19042         Estepa      14378         82.0        0.0  "
      ]
     },
     "execution_count": 31,
     "metadata": {},
     "output_type": "execute_result"
    }
   ],
   "source": [
    "slave_voyages_df[slave_voyages_df['percent_women'] == slave_voyages_df['percent_women'].max()]"
   ]
  },
  {
   "cell_type": "markdown",
   "metadata": {},
   "source": [
    "According to the Trans-Atlantic Slave Trade Database, the 1819 voyage of the S José Diligente had 100% enslaved women aboard."
   ]
  },
  {
   "cell_type": "markdown",
   "metadata": {},
   "source": [
    "As demonstrated previously, we can also perform calculations with columns themselves."
   ]
  },
  {
   "cell_type": "code",
   "execution_count": 32,
   "metadata": {},
   "outputs": [
    {
     "data": {
      "text/plain": [
       "np.float64(475.99679999999995)"
      ]
     },
     "execution_count": 32,
     "metadata": {},
     "output_type": "execute_result"
    }
   ],
   "source": [
    "(slave_voyages_df['total_embarked'] * slave_voyages_df['percent_women']).max()"
   ]
  },
  {
   "cell_type": "markdown",
   "metadata": {},
   "source": [
    "## Groupby Columns"
   ]
  },
  {
   "cell_type": "markdown",
   "metadata": {},
   "source": [
    "The Pandas function`.groupby()` allows us to group data and perform calculations on the groups.\n",
    "\n",
    "For example, Jennifer Morgan writes about how some nations recorded more information about the gender of the enslaved people aboard their voyages than other nations did. To see the breakdown of gender information by nation, we can use a `.groupby()` function.\n",
    "\n",
    "The first step to using groupby is to type the name of the DataFrame followed by `.groupby()` with the column we'd like to aggregate based on, such as \"national_affiliation.\""
   ]
  },
  {
   "cell_type": "code",
   "execution_count": 33,
   "metadata": {},
   "outputs": [
    {
     "data": {
      "text/plain": [
       "<pandas.core.groupby.generic.DataFrameGroupBy object at 0x10c3c63d0>"
      ]
     },
     "execution_count": 33,
     "metadata": {},
     "output_type": "execute_result"
    }
   ],
   "source": [
    "slave_voyages_df.groupby('national_affiliation')"
   ]
  },
  {
   "cell_type": "markdown",
   "metadata": {},
   "source": [
    "This action will create a [GroupBy object](https://pandas.pydata.org/pandas-docs/stable/user_guide/groupby.html). We can perform calculations on this grouped data, such as counting the number of non-blank values in each column for each nation."
   ]
  },
  {
   "cell_type": "code",
   "execution_count": 34,
   "metadata": {
    "tags": [
     "full-width"
    ]
   },
   "outputs": [
    {
     "data": {
      "text/html": [
       "<div>\n",
       "<style scoped>\n",
       "    .dataframe tbody tr th:only-of-type {\n",
       "        vertical-align: middle;\n",
       "    }\n",
       "\n",
       "    .dataframe tbody tr th {\n",
       "        vertical-align: top;\n",
       "    }\n",
       "\n",
       "    .dataframe thead th {\n",
       "        text-align: right;\n",
       "    }\n",
       "</style>\n",
       "<table border=\"1\" class=\"dataframe\">\n",
       "  <thead>\n",
       "    <tr style=\"text-align: right;\">\n",
       "      <th></th>\n",
       "      <th>year_of_arrival</th>\n",
       "      <th>place_of_purchase</th>\n",
       "      <th>place_of_landing</th>\n",
       "      <th>percent_women</th>\n",
       "      <th>percent_children</th>\n",
       "      <th>percent_men</th>\n",
       "      <th>total_embarked</th>\n",
       "      <th>total_disembarked</th>\n",
       "      <th>resistance_label</th>\n",
       "      <th>vessel_name</th>\n",
       "      <th>captain's_name</th>\n",
       "      <th>voyage_id</th>\n",
       "      <th>total_women</th>\n",
       "      <th>total_men</th>\n",
       "    </tr>\n",
       "    <tr>\n",
       "      <th>national_affiliation</th>\n",
       "      <th></th>\n",
       "      <th></th>\n",
       "      <th></th>\n",
       "      <th></th>\n",
       "      <th></th>\n",
       "      <th></th>\n",
       "      <th></th>\n",
       "      <th></th>\n",
       "      <th></th>\n",
       "      <th></th>\n",
       "      <th></th>\n",
       "      <th></th>\n",
       "      <th></th>\n",
       "      <th></th>\n",
       "    </tr>\n",
       "  </thead>\n",
       "  <tbody>\n",
       "    <tr>\n",
       "      <th>Denmark / Baltic</th>\n",
       "      <td>290</td>\n",
       "      <td>290</td>\n",
       "      <td>290</td>\n",
       "      <td>119</td>\n",
       "      <td>119</td>\n",
       "      <td>119</td>\n",
       "      <td>290</td>\n",
       "      <td>290</td>\n",
       "      <td>8</td>\n",
       "      <td>290</td>\n",
       "      <td>163</td>\n",
       "      <td>290</td>\n",
       "      <td>119</td>\n",
       "      <td>119</td>\n",
       "    </tr>\n",
       "    <tr>\n",
       "      <th>France</th>\n",
       "      <td>3381</td>\n",
       "      <td>3377</td>\n",
       "      <td>3381</td>\n",
       "      <td>708</td>\n",
       "      <td>709</td>\n",
       "      <td>708</td>\n",
       "      <td>3381</td>\n",
       "      <td>3381</td>\n",
       "      <td>121</td>\n",
       "      <td>3381</td>\n",
       "      <td>3289</td>\n",
       "      <td>3381</td>\n",
       "      <td>708</td>\n",
       "      <td>708</td>\n",
       "    </tr>\n",
       "    <tr>\n",
       "      <th>Great Britain</th>\n",
       "      <td>10536</td>\n",
       "      <td>10530</td>\n",
       "      <td>10536</td>\n",
       "      <td>1123</td>\n",
       "      <td>1151</td>\n",
       "      <td>1123</td>\n",
       "      <td>10526</td>\n",
       "      <td>10525</td>\n",
       "      <td>152</td>\n",
       "      <td>10536</td>\n",
       "      <td>10226</td>\n",
       "      <td>10536</td>\n",
       "      <td>1123</td>\n",
       "      <td>1123</td>\n",
       "    </tr>\n",
       "    <tr>\n",
       "      <th>Netherlands</th>\n",
       "      <td>1389</td>\n",
       "      <td>1341</td>\n",
       "      <td>1389</td>\n",
       "      <td>200</td>\n",
       "      <td>201</td>\n",
       "      <td>200</td>\n",
       "      <td>1387</td>\n",
       "      <td>1387</td>\n",
       "      <td>51</td>\n",
       "      <td>1389</td>\n",
       "      <td>1316</td>\n",
       "      <td>1389</td>\n",
       "      <td>200</td>\n",
       "      <td>200</td>\n",
       "    </tr>\n",
       "    <tr>\n",
       "      <th>Other</th>\n",
       "      <td>4</td>\n",
       "      <td>4</td>\n",
       "      <td>4</td>\n",
       "      <td>0</td>\n",
       "      <td>0</td>\n",
       "      <td>0</td>\n",
       "      <td>4</td>\n",
       "      <td>4</td>\n",
       "      <td>0</td>\n",
       "      <td>4</td>\n",
       "      <td>2</td>\n",
       "      <td>4</td>\n",
       "      <td>0</td>\n",
       "      <td>0</td>\n",
       "    </tr>\n",
       "    <tr>\n",
       "      <th>Portugal / Brazil</th>\n",
       "      <td>1009</td>\n",
       "      <td>1009</td>\n",
       "      <td>1009</td>\n",
       "      <td>42</td>\n",
       "      <td>48</td>\n",
       "      <td>42</td>\n",
       "      <td>1009</td>\n",
       "      <td>1009</td>\n",
       "      <td>0</td>\n",
       "      <td>1009</td>\n",
       "      <td>874</td>\n",
       "      <td>1009</td>\n",
       "      <td>42</td>\n",
       "      <td>42</td>\n",
       "    </tr>\n",
       "    <tr>\n",
       "      <th>Spain / Uruguay</th>\n",
       "      <td>1528</td>\n",
       "      <td>1524</td>\n",
       "      <td>1528</td>\n",
       "      <td>468</td>\n",
       "      <td>465</td>\n",
       "      <td>468</td>\n",
       "      <td>1528</td>\n",
       "      <td>1528</td>\n",
       "      <td>4</td>\n",
       "      <td>1528</td>\n",
       "      <td>1323</td>\n",
       "      <td>1528</td>\n",
       "      <td>468</td>\n",
       "      <td>468</td>\n",
       "    </tr>\n",
       "    <tr>\n",
       "      <th>U.S.A.</th>\n",
       "      <td>1446</td>\n",
       "      <td>1436</td>\n",
       "      <td>1446</td>\n",
       "      <td>223</td>\n",
       "      <td>223</td>\n",
       "      <td>223</td>\n",
       "      <td>1443</td>\n",
       "      <td>1442</td>\n",
       "      <td>31</td>\n",
       "      <td>1446</td>\n",
       "      <td>1283</td>\n",
       "      <td>1446</td>\n",
       "      <td>223</td>\n",
       "      <td>223</td>\n",
       "    </tr>\n",
       "  </tbody>\n",
       "</table>\n",
       "</div>"
      ],
      "text/plain": [
       "                      year_of_arrival  place_of_purchase  place_of_landing  \\\n",
       "national_affiliation                                                         \n",
       "Denmark / Baltic                  290                290               290   \n",
       "France                           3381               3377              3381   \n",
       "Great Britain                   10536              10530             10536   \n",
       "Netherlands                      1389               1341              1389   \n",
       "Other                               4                  4                 4   \n",
       "Portugal / Brazil                1009               1009              1009   \n",
       "Spain / Uruguay                  1528               1524              1528   \n",
       "U.S.A.                           1446               1436              1446   \n",
       "\n",
       "                      percent_women  percent_children  percent_men  \\\n",
       "national_affiliation                                                 \n",
       "Denmark / Baltic                119               119          119   \n",
       "France                          708               709          708   \n",
       "Great Britain                  1123              1151         1123   \n",
       "Netherlands                     200               201          200   \n",
       "Other                             0                 0            0   \n",
       "Portugal / Brazil                42                48           42   \n",
       "Spain / Uruguay                 468               465          468   \n",
       "U.S.A.                          223               223          223   \n",
       "\n",
       "                      total_embarked  total_disembarked  resistance_label  \\\n",
       "national_affiliation                                                        \n",
       "Denmark / Baltic                 290                290                 8   \n",
       "France                          3381               3381               121   \n",
       "Great Britain                  10526              10525               152   \n",
       "Netherlands                     1387               1387                51   \n",
       "Other                              4                  4                 0   \n",
       "Portugal / Brazil               1009               1009                 0   \n",
       "Spain / Uruguay                 1528               1528                 4   \n",
       "U.S.A.                          1443               1442                31   \n",
       "\n",
       "                      vessel_name  captain's_name  voyage_id  total_women  \\\n",
       "national_affiliation                                                        \n",
       "Denmark / Baltic              290             163        290          119   \n",
       "France                       3381            3289       3381          708   \n",
       "Great Britain               10536           10226      10536         1123   \n",
       "Netherlands                  1389            1316       1389          200   \n",
       "Other                           4               2          4            0   \n",
       "Portugal / Brazil            1009             874       1009           42   \n",
       "Spain / Uruguay              1528            1323       1528          468   \n",
       "U.S.A.                       1446            1283       1446          223   \n",
       "\n",
       "                      total_men  \n",
       "national_affiliation             \n",
       "Denmark / Baltic            119  \n",
       "France                      708  \n",
       "Great Britain              1123  \n",
       "Netherlands                 200  \n",
       "Other                         0  \n",
       "Portugal / Brazil            42  \n",
       "Spain / Uruguay             468  \n",
       "U.S.A.                      223  "
      ]
     },
     "execution_count": 34,
     "metadata": {},
     "output_type": "execute_result"
    }
   ],
   "source": [
    "slave_voyages_df.groupby('national_affiliation').count()"
   ]
  },
  {
   "cell_type": "markdown",
   "metadata": {},
   "source": [
    "```{sidebar} On England's Slave Ship Records\n",
    "> For example, patterns emerge that suggest that English slave ship captains provided the most data related to the age or sex characteristics of the captives they transported and sold into slavery...The degree to which the practice of recording the sex of the passengers on board accords to national origin raises some interesting questions about the possible correlations between certain notational and national presumptions of accountability.\n",
    "\n",
    "-Jennifer Morgan, [\"Accounting for 'The Most Excruciating Torment'\"](https://read.dukeupress.edu/history-of-the-present/article-abstract/6/2/184/153282/Accounting-for-The-Most-Excruciating-Torment?redirectedFrom=PDF)\n",
    "```"
   ]
  },
  {
   "cell_type": "markdown",
   "metadata": {},
   "source": [
    "We can also isolate only the \"percent_women\" column."
   ]
  },
  {
   "cell_type": "code",
   "execution_count": 37,
   "metadata": {},
   "outputs": [
    {
     "data": {
      "text/plain": [
       "national_affiliation\n",
       "Denmark / Baltic      119\n",
       "France                708\n",
       "Great Britain        1123\n",
       "Netherlands           200\n",
       "Other                   0\n",
       "Portugal / Brazil      42\n",
       "Spain / Uruguay       468\n",
       "U.S.A.                223\n",
       "Name: percent_women, dtype: int64"
      ]
     },
     "execution_count": 37,
     "metadata": {},
     "output_type": "execute_result"
    }
   ],
   "source": [
    "slave_voyages_df.groupby('national_affiliation').count()['percent_women']"
   ]
  },
  {
   "cell_type": "code",
   "execution_count": 36,
   "metadata": {},
   "outputs": [
    {
     "data": {
      "text/plain": [
       "national_affiliation\n",
       "Great Britain        1123\n",
       "France                708\n",
       "Spain / Uruguay       468\n",
       "U.S.A.                223\n",
       "Netherlands           200\n",
       "Denmark / Baltic      119\n",
       "Portugal / Brazil      42\n",
       "Other                   0\n",
       "Name: percent_women, dtype: int64"
      ]
     },
     "execution_count": 36,
     "metadata": {},
     "output_type": "execute_result"
    }
   ],
   "source": [
    "slave_voyages_df.groupby('national_affiliation')['percent_women'].count().sort_values(ascending=False)"
   ]
  },
  {
   "cell_type": "markdown",
   "metadata": {},
   "source": [
    "```{margin} Line Breaks\n",
    "If a line of code gets too long, you can create a line break with a backslash `\\`\n",
    "```"
   ]
  },
  {
   "cell_type": "code",
   "execution_count": 35,
   "metadata": {},
   "outputs": [
    {
     "data": {
      "text/plain": [
       "<Axes: title={'center': 'Trans-Atlantic Slave Trade (Americas): \\n Slave Voyages with Recorded Gender Information'}, xlabel='national_affiliation'>"
      ]
     },
     "execution_count": 35,
     "metadata": {},
     "output_type": "execute_result"
    },
    {
     "data": {
      "image/png": "[encoded data removed]",
      "text/plain": [
       "<Figure size 640x480 with 1 Axes>"
      ]
     },
     "metadata": {},
     "output_type": "display_data"
    }
   ],
   "source": [
    "slave_voyages_df.groupby('national_affiliation')['percent_women'].count()\\\n",
    ".sort_values(ascending=False).plot(kind='bar', title='Trans-Atlantic Slave Trade (Americas): \\n Slave Voyages with Recorded Gender Information')"
   ]
  },
  {
   "cell_type": "markdown",
   "metadata": {},
   "source": [
    "## Make Time Series with Groupby"
   ]
  },
  {
   "cell_type": "markdown",
   "metadata": {},
   "source": [
    "To make a time series, we would typically want to convert our date column into datetime values rather than integers."
   ]
  },
  {
   "cell_type": "code",
   "execution_count": 38,
   "metadata": {},
   "outputs": [
    {
     "data": {
      "text/plain": [
       "dtype('int64')"
      ]
     },
     "execution_count": 38,
     "metadata": {},
     "output_type": "execute_result"
    }
   ],
   "source": [
    "slave_voyages_df['year_of_arrival'].dtype\n"
   ]
  },
  {
   "cell_type": "markdown",
   "metadata": {},
   "source": [
    "Datetime values allow us to do special things that we can't do with regular integers and floats, such as extract just the year, month, week, day, or second from any date or aggregate based on any of the above.\n",
    "\n",
    "However, we can also make some simple time series plots just by grouping by the year column and performing calculations on those year groupings, such as calculating the average percentage of enslaved women aboard the voyages over time."
   ]
  },
  {
   "cell_type": "code",
   "execution_count": 39,
   "metadata": {},
   "outputs": [
    {
     "data": {
      "text/plain": [
       "year_of_arrival\n",
       "1520    0.0\n",
       "1525    0.0\n",
       "1526    0.0\n",
       "1527    0.0\n",
       "1532    0.0\n",
       "       ... \n",
       "1862    0.0\n",
       "1863    0.0\n",
       "1864    0.0\n",
       "1865    0.0\n",
       "1866    0.0\n",
       "Name: total_women, Length: 330, dtype: float64"
      ]
     },
     "execution_count": 39,
     "metadata": {},
     "output_type": "execute_result"
    }
   ],
   "source": [
    "slave_voyages_df.groupby('year_of_arrival')['total_women'].sum()"
   ]
  },
  {
   "cell_type": "code",
   "execution_count": 41,
   "metadata": {},
   "outputs": [],
   "source": [
    "total_women_by_year = slave_voyages_df.groupby('year_of_arrival')['total_women'].sum()"
   ]
  },
  {
   "cell_type": "code",
   "execution_count": 42,
   "metadata": {},
   "outputs": [
    {
     "data": {
      "text/plain": [
       "<Axes: xlabel='year_of_arrival'>"
      ]
     },
     "execution_count": 42,
     "metadata": {},
     "output_type": "execute_result"
    },
    {
     "data": {
      "image/png": "[encoded data removed]",
      "text/plain": [
       "<Figure size 640x480 with 1 Axes>"
      ]
     },
     "metadata": {},
     "output_type": "display_data"
    }
   ],
   "source": [
    "total_women_by_year.plot()"
   ]
  },
  {
   "cell_type": "code",
   "execution_count": 43,
   "metadata": {},
   "outputs": [
    {
     "data": {
      "text/plain": [
       "<Axes: title={'center': 'Trans-Atlantic Slave Trade (Americas):\\nTotal Number of Enslaved Women on Voyages'}, xlabel='year_of_arrival'>"
      ]
     },
     "execution_count": 43,
     "metadata": {},
     "output_type": "execute_result"
    },
    {
     "data": {
      "image/png": "[encoded data removed]",
      "text/plain": [
       "<Figure size 640x480 with 1 Axes>"
      ]
     },
     "metadata": {},
     "output_type": "display_data"
    }
   ],
   "source": [
    "total_women_by_year.plot(kind='line', title=\"Trans-Atlantic Slave Trade (Americas):\\nTotal Number of Enslaved Women on Voyages\")"
   ]
  },
  {
   "cell_type": "markdown",
   "metadata": {},
   "source": [
    "We can put different plots on the same axes by assigning one of the plots to the variable `ax`, short for axes, and then using `ax=ax` in the other plot to explicitly put it on the same axes."
   ]
  },
  {
   "cell_type": "code",
   "execution_count": 44,
   "metadata": {},
   "outputs": [],
   "source": [
    "total_men_by_year = slave_voyages_df.groupby('year_of_arrival')['total_men'].sum()"
   ]
  },
  {
   "cell_type": "code",
   "execution_count": 45,
   "metadata": {},
   "outputs": [
    {
     "data": {
      "text/plain": [
       "<Axes: title={'center': 'Trans-Atlantic Slave Trade (Americas):\\nTotal Number of Enslaved Women on Voyages'}, xlabel='year_of_arrival'>"
      ]
     },
     "execution_count": 45,
     "metadata": {},
     "output_type": "execute_result"
    },
    {
     "data": {
      "image/png": "[encoded data removed]",
      "text/plain": [
       "<Figure size 640x480 with 1 Axes>"
      ]
     },
     "metadata": {},
     "output_type": "display_data"
    }
   ],
   "source": [
    "ax = total_women_by_year.plot(kind='line', legend= True,\n",
    "                              title=\"Trans-Atlantic Slave Trade (Americas):\\nTotal Number of Enslaved Women on Voyages\")\n",
    "total_men_by_year.plot(ax=ax, legend=True)"
   ]
  },
  {
   "cell_type": "markdown",
   "metadata": {},
   "source": [
    "We can change the labels in a legend by using the `label=` parameter."
   ]
  },
  {
   "cell_type": "code",
   "execution_count": 46,
   "metadata": {},
   "outputs": [
    {
     "data": {
      "text/plain": [
       "<Axes: title={'center': 'Trans-Atlantic Slave Trade (Americas):\\nTotal Number of Enslaved Women on Voyages'}, xlabel='year_of_arrival'>"
      ]
     },
     "execution_count": 46,
     "metadata": {},
     "output_type": "execute_result"
    },
    {
     "data": {
      "image/png": "[encoded data removed]",
      "text/plain": [
       "<Figure size 640x480 with 1 Axes>"
      ]
     },
     "metadata": {},
     "output_type": "display_data"
    }
   ],
   "source": [
    "ax = total_women_by_year.plot(kind='line', label=\"Total Women\", legend= True, title=\"Trans-Atlantic Slave Trade (Americas):\\nTotal Number of Enslaved Women on Voyages\")\n",
    "total_men_by_year.plot(ax=ax, label=\"Total Men\", legend=True)"
   ]
  },
  {
   "cell_type": "markdown",
   "metadata": {},
   "source": [
    "Finally, we can also add in the total number of enslaved people who embarked on the voyages, offering a perspective of how much gender information we have about the voyages compared to the total number of voyages."
   ]
  },
  {
   "cell_type": "code",
   "execution_count": 47,
   "metadata": {},
   "outputs": [],
   "source": [
    "total_embarked_by_year = slave_voyages_df.groupby('year_of_arrival')['total_embarked'].sum()"
   ]
  },
  {
   "cell_type": "code",
   "execution_count": 48,
   "metadata": {},
   "outputs": [
    {
     "data": {
      "text/plain": [
       "<Axes: title={'center': 'Trans-Atlantic Slave Trade (Americas):\\nTotal Number of Enslaved Women on Voyages'}, xlabel='year_of_arrival'>"
      ]
     },
     "execution_count": 48,
     "metadata": {},
     "output_type": "execute_result"
    },
    {
     "data": {
      "image/png": "[encoded data removed]",
      "text/plain": [
       "<Figure size 640x480 with 1 Axes>"
      ]
     },
     "metadata": {},
     "output_type": "display_data"
    }
   ],
   "source": [
    "ax = total_women_by_year.plot(kind='line', label=\"Total Women\", legend= True, title=\"Trans-Atlantic Slave Trade (Americas):\\nTotal Number of Enslaved Women on Voyages\")\n",
    "total_men_by_year.plot(ax=ax, label=\"Total Men\", legend=True)\n",
    "total_embarked_by_year.plot(ax=ax, label=\"Total Embarked\", legend=True)"
   ]
  },
  {
   "cell_type": "markdown",
   "metadata": {},
   "source": [
    "## Save Plots"
   ]
  },
  {
   "cell_type": "markdown",
   "metadata": {},
   "source": [
    "To save a plot as an image file or PDF file, we can again assign the plot to a variable called `ax`, short for axes.\n",
    "\n",
    "Then we can use `ax.figure.savefig('FILE-NAME.png')` or `ax.figure.savefig('FILE-NAME.pdf')`."
   ]
  },
  {
   "cell_type": "code",
   "execution_count": 49,
   "metadata": {},
   "outputs": [
    {
     "data": {
      "image/png": "[encoded data removed]",
      "text/plain": [
       "<Figure size 640x480 with 1 Axes>"
      ]
     },
     "metadata": {},
     "output_type": "display_data"
    }
   ],
   "source": [
    "ax = total_women_by_year.plot(kind='line', label=\"Total Women\", legend= True, title=\"Trans-Atlantic Slave Trade (Americas):\\nTotal Number of Enslaved Women on Voyages\")\n",
    "total_men_by_year.plot(ax=ax, label=\"Total Men\", legend=True)\n",
    "total_embarked_by_year.plot(ax=ax, label=\"Total Embarked\", legend=True)\n",
    "\n",
    "ax.figure.savefig('Trans-Atlantic-Slave-Trade_Gender-Info.png')"
   ]
  },
  {
   "cell_type": "markdown",
   "metadata": {},
   "source": [
    "## Prevent Labels From Getting Cut Off"
   ]
  },
  {
   "cell_type": "markdown",
   "metadata": {},
   "source": [
    "If labels are getting cut off in your image, you can explicitly import `matplotlib.pyplot` (the data viz Python library that Pandas `.plot()`s are built on) and use the `tight_layout()` function:"
   ]
  },
  {
   "cell_type": "code",
   "execution_count": 50,
   "metadata": {},
   "outputs": [
    {
     "data": {
      "image/png": "[encoded data removed]",
      "text/plain": [
       "<Figure size 640x480 with 1 Axes>"
      ]
     },
     "metadata": {},
     "output_type": "display_data"
    }
   ],
   "source": [
    "import matplotlib.pyplot as plt\n",
    "\n",
    "ax = total_women_by_year.plot(kind='line', label=\"Total Women\", legend= True, title=\"Trans-Atlantic Slave Trade (Americas):\\nTotal Number of Enslaved Women on Voyages\")\n",
    "total_men_by_year.plot(ax=ax, label=\"Total Men\", legend=True)\n",
    "total_embarked_by_year.plot(ax=ax, label=\"Total Embarked\", legend=True)\n",
    "\n",
    "plt.tight_layout()\n",
    "ax.figure.savefig('Trans-Atlantic-Slave-Trade_Gender-Info.png')"
   ]
  }
 ],
 "metadata": {
  "kernelspec": {
   "display_name": "Python 3",
   "language": "python",
   "name": "python3"
  },
  "language_info": {
   "codemirror_mode": {
    "name": "ipython",
    "version": 3
   },
   "file_extension": ".py",
   "mimetype": "text/x-python",
   "name": "python",
   "nbconvert_exporter": "python",
   "pygments_lexer": "ipython3",
   "version": "3.9.6"
  }
 },
 "nbformat": 4,
 "nbformat_minor": 4
}
