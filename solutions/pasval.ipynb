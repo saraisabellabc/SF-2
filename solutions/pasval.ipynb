{
 "cells": [
  {
   "cell_type": "markdown",
   "metadata": {},
   "source": [
    "* Pascal's Triangle"
   ]
  },
  {
   "cell_type": "code",
   "execution_count": 3,
   "metadata": {},
   "outputs": [
    {
     "name": "stdout",
     "output_type": "stream",
     "text": [
      "3\n"
     ]
    }
   ],
   "source": [
    "from math import factorial\n",
    "def binom(n, k):\n",
    "    num = factorial(n) # O(n)\n",
    "    denom = factorial(n-k) * factorial(k) # O(n) * O(n) = 2 O(n)\n",
    "    return num//denom # O(1)\n",
    "print(binom(3,2)) \n",
    "#O(n)\n",
    "\n",
    "def PascalTriangle(n): # because fills two dimensonial table, imposible to do better than n2 (best case scenario)\n",
    "    matrix = [] # constant\n",
    "    for row in range(n): # O(n3), because n times and inside n2 times \n",
    "        sublst = []    # O(1)\n",
    "        for k in range(row+1):  #O(n2) , n \n",
    "            sublst.append(binom(row,k))     # function is taken as linear, takes extra factor , have to make it constant \n",
    "        matrix.append(sublst)\n",
    "\n",
    "    return matrix  # constant - space time is n2, table \n",
    "        \n",
    "def printPascal(matrix):\n",
    "    for row in matrix:  #O(n)\n",
    "        for i in range(len(row)):   #O(n)\n",
    "            print(row[i], end = '')     #O(n2), space: n2\n",
    "        print()\n",
    "\n",
    "printPascal(PascalTriangle(5))\n"
   ]
  },
  {
   "cell_type": "markdown",
   "metadata": {},
   "source": [
    "instead of PascalTriangle\n",
    "matrix[row][k] = 1\n",
    "\n",
    " row is not same as k , row =1 k=0, row\n",
    "\n",
    " start with list comprehension, filled with 0\n",
    "\n",
    "constant work . access acces addition assignemnt \n",
    "if k = 0 , row = 1\n",
    "if row == k or if k == 0:\n",
    " matrix[row][k] = 1\n",
    "else:\n",
    "summation : (constant work)\n",
    " matrix[row][k] = matrix[row-1][k-1] + matrix[row-1][k]\n",
    "- fill two dimensional list "
   ]
  },
  {
   "cell_type": "code",
   "execution_count": null,
   "metadata": {},
   "outputs": [],
   "source": []
  },
  {
   "cell_type": "code",
   "execution_count": null,
   "metadata": {},
   "outputs": [],
   "source": [
    "def generate_pascals_triangle(n):\n",
    "    matrix = [[0] * (row + 1) for row in range(n)]\n",
    "\n",
    "    for row in range(n):\n",
    "        for k in range(row + 1):\n",
    "            if k == 0 or k == row:\n",
    "                matrix[row][k] = 1  \n",
    "            else:\n",
    "                matrix[row][k] = matrix[row - 1][k - 1] + matrix[row - 1][k]  \n",
    "\n",
    "    return matrix"
   ]
  }
 ],
 "metadata": {
  "kernelspec": {
   "display_name": "Python 3",
   "language": "python",
   "name": "python3"
  },
  "language_info": {
   "codemirror_mode": {
    "name": "ipython",
    "version": 3
   },
   "file_extension": ".py",
   "mimetype": "text/x-python",
   "name": "python",
   "nbconvert_exporter": "python",
   "pygments_lexer": "ipython3",
   "version": "3.9.6"
  }
 },
 "nbformat": 4,
 "nbformat_minor": 2
}
