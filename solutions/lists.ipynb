{
 "cells": [
  {
   "cell_type": "code",
   "execution_count": 2,
   "metadata": {},
   "outputs": [],
   "source": [
    "lst = [[3, 78, 4, 5], [12, 33, 77, 5], [3, 90, 0]]\n",
    "\n"
   ]
  },
  {
   "cell_type": "markdown",
   "metadata": {},
   "source": [
    "\n",
    "# List Example: sort a lists of lists\n",
    "- given a list of ists, sort each sublist in decreasing sorted order\n",
    "- cannot use any buil in functins\n",
    "- must define a sort function that allows to sort both in increasing and decreasing order"
   ]
  },
  {
   "cell_type": "code",
   "execution_count": null,
   "metadata": {},
   "outputs": [],
   "source": [
    "lst = [[3, 78, 4, 5], [12, 33, 77, 5], [3, 90, 0]]\n",
    "def sort_list(lst):\n",
    "\n",
    " #   for i in lst:\n",
    "\n",
    "#      if lst[i] > lst[i+1]:\n",
    " #           lst[i], lst[i+1] = lst[i+1], lst[i]\n",
    "\n",
    "\n",
    "\n",
    "    lst = input().split()\n",
    "    for i in range(len(lst)-1):\n",
    "        for j in range(len(lst)):\n",
    "            while lst[i][j] > lst[i][j+1]:\n",
    "               lst[i][j],lst[i][j+1] = lst[i][j+1], lst[i][j]\n",
    "\n",
    "               \n",
    "\n",
    "            \n",
    "\n",
    "\n"
   ]
  },
  {
   "cell_type": "code",
   "execution_count": 5,
   "metadata": {},
   "outputs": [],
   "source": [
    "def insertionSort(lst, mode):\n",
    "    n = len(lst)\n",
    "\n",
    "    if n<= 1:\n",
    "        return lst\n",
    "    \n",
    "    for i in range(1,n):\n",
    "        elem = lst[i]\n",
    "        j = i -1\n",
    "        while j >= 0 and elem < lst[j]:\n",
    "            lst[j+1] = lst[j]\n",
    "            j -= 1\n",
    "        lst[j+1] = elem \n",
    "    \n",
    "    if not mode: # decreasing order \n",
    "        #for i in range(len(lst)):\n",
    "        #    lst[i] = lst[i][::-1]\n",
    "        lst = lst[::-1]\n",
    "\n",
    "    return lst\n"
   ]
  },
  {
   "cell_type": "code",
   "execution_count": 6,
   "metadata": {},
   "outputs": [
    {
     "name": "stdout",
     "output_type": "stream",
     "text": [
      "[[78, 5, 4, 3], [77, 33, 12, 5], [90, 3, 0]]\n"
     ]
    }
   ],
   "source": [
    "lst = [[3, 78, 4, 5], [12, 33, 77, 5], [3, 90, 0]]\n",
    "lst2 = [33, 3, 78, 4]\n",
    "\n",
    "for i in range(len(lst)):\n",
    "    lst[i] = insertionSort(lst[i], False)\n",
    "\n",
    "print(lst)"
   ]
  },
  {
   "cell_type": "markdown",
   "metadata": {},
   "source": [
    "# List Example: Transpose a matrix\n",
    "- given a list of lists (i. e. a matrix), write Python code to transpose it\n",
    "- cannot use any built-in functions\n",
    "- you may assume that all sublists are of the same length\n",
    "- do the same thing using list comprehensions"
   ]
  },
  {
   "cell_type": "code",
   "execution_count": 9,
   "metadata": {},
   "outputs": [],
   "source": [
    "def transpose(matrix):\n",
    "    j = len(matrix)\n",
    "    for list in matrix:\n",
    "        for i in range(j):\n",
    "            new_matrix = matrix[list][i] + matrix[list][i+1]\n",
    "\n",
    "    print(new_matrix)"
   ]
  },
  {
   "cell_type": "code",
   "execution_count": 10,
   "metadata": {},
   "outputs": [
    {
     "ename": "TypeError",
     "evalue": "list indices must be integers or slices, not list",
     "output_type": "error",
     "traceback": [
      "\u001b[0;31m---------------------------------------------------------------------------\u001b[0m",
      "\u001b[0;31mTypeError\u001b[0m                                 Traceback (most recent call last)",
      "Cell \u001b[0;32mIn[10], line 2\u001b[0m\n\u001b[1;32m      1\u001b[0m matrix \u001b[38;5;241m=\u001b[39m [[\u001b[38;5;241m3\u001b[39m,\u001b[38;5;241m2\u001b[39m], [\u001b[38;5;241m3\u001b[39m,\u001b[38;5;241m4\u001b[39m], [\u001b[38;5;241m5\u001b[39m, \u001b[38;5;241m6\u001b[39m]]\n\u001b[0;32m----> 2\u001b[0m \u001b[43mtranspose\u001b[49m\u001b[43m(\u001b[49m\u001b[43mmatrix\u001b[49m\u001b[43m)\u001b[49m\n",
      "Cell \u001b[0;32mIn[9], line 5\u001b[0m, in \u001b[0;36mtranspose\u001b[0;34m(matrix)\u001b[0m\n\u001b[1;32m      3\u001b[0m \u001b[38;5;28;01mfor\u001b[39;00m \u001b[38;5;28mlist\u001b[39m \u001b[38;5;129;01min\u001b[39;00m matrix:\n\u001b[1;32m      4\u001b[0m     \u001b[38;5;28;01mfor\u001b[39;00m i \u001b[38;5;129;01min\u001b[39;00m \u001b[38;5;28mrange\u001b[39m(j):\n\u001b[0;32m----> 5\u001b[0m         new_matrix \u001b[38;5;241m=\u001b[39m \u001b[43mmatrix\u001b[49m\u001b[43m[\u001b[49m\u001b[38;5;28;43mlist\u001b[39;49m\u001b[43m]\u001b[49m[i] \u001b[38;5;241m+\u001b[39m matrix[\u001b[38;5;28mlist\u001b[39m][i\u001b[38;5;241m+\u001b[39m\u001b[38;5;241m1\u001b[39m]\n\u001b[1;32m      7\u001b[0m \u001b[38;5;28mprint\u001b[39m(new_matrix)\n",
      "\u001b[0;31mTypeError\u001b[0m: list indices must be integers or slices, not list"
     ]
    }
   ],
   "source": [
    "matrix = [[3,2], [3,4], [5, 6]]\n",
    "transpose(matrix)"
   ]
  }
 ],
 "metadata": {
  "kernelspec": {
   "display_name": "Python 3",
   "language": "python",
   "name": "python3"
  },
  "language_info": {
   "codemirror_mode": {
    "name": "ipython",
    "version": 3
   },
   "file_extension": ".py",
   "mimetype": "text/x-python",
   "name": "python",
   "nbconvert_exporter": "python",
   "pygments_lexer": "ipython3",
   "version": "3.9.6"
  }
 },
 "nbformat": 4,
 "nbformat_minor": 2
}
