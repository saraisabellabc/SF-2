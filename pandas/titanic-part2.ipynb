{
 "cells": [
  {
   "cell_type": "markdown",
   "metadata": {},
   "source": [
    "# part 1"
   ]
  },
  {
   "cell_type": "markdown",
   "metadata": {},
   "source": [
    "import all necessary libraries (i.e. pandas and matplotlib)"
   ]
  },
  {
   "cell_type": "code",
   "execution_count": 2,
   "metadata": {},
   "outputs": [],
   "source": [
    "# your code here"
   ]
  },
  {
   "cell_type": "markdown",
   "metadata": {},
   "source": [
    "Read the provided file `titanic.csv` into a DataFrame"
   ]
  },
  {
   "cell_type": "code",
   "execution_count": 3,
   "metadata": {},
   "outputs": [],
   "source": [
    "# your code here"
   ]
  },
  {
   "cell_type": "markdown",
   "metadata": {},
   "source": [
    "print the following\n",
    "- entries from the data frame\n",
    "- descriptive statistics, what is the average age, the maximum number of siblings and children? \n",
    "- general information\n",
    "- first 5 entries\n",
    "- first 15 entries\n",
    "- last 5 entries\n",
    "- last 15 entries\n",
    "- sample of random 10 entries"
   ]
  },
  {
   "cell_type": "code",
   "execution_count": null,
   "metadata": {},
   "outputs": [],
   "source": [
    "# your code here"
   ]
  },
  {
   "cell_type": "markdown",
   "metadata": {},
   "source": [
    "draw a histogram for age distribution using `matplotlib`"
   ]
  },
  {
   "cell_type": "code",
   "execution_count": null,
   "metadata": {},
   "outputs": [],
   "source": [
    "# yoru code here"
   ]
  },
  {
   "cell_type": "markdown",
   "metadata": {},
   "source": [
    "- Create a new DataFrame with only entries where age > 30.  \n",
    "- Give number of such entires\n",
    "- show only the women entries, how many  are there over the age of 30\n",
    "- the men entries, how many men are there over the age of 30\n",
    "- plot the new histogram for all ages >30, how does this histogram differ from the one you plotted above?"
   ]
  },
  {
   "cell_type": "code",
   "execution_count": null,
   "metadata": {},
   "outputs": [],
   "source": [
    "# your code here"
   ]
  },
  {
   "cell_type": "markdown",
   "metadata": {},
   "source": [
    "Use `pandas` to plot the pie chart of all classes on board the titanic.  "
   ]
  },
  {
   "cell_type": "code",
   "execution_count": null,
   "metadata": {},
   "outputs": [],
   "source": [
    "# your code here"
   ]
  },
  {
   "cell_type": "markdown",
   "metadata": {},
   "source": [
    "use `pandas` to plot the bar chart of all towns that people embarked from.  "
   ]
  },
  {
   "cell_type": "code",
   "execution_count": null,
   "metadata": {},
   "outputs": [],
   "source": [
    "# your code here"
   ]
  },
  {
   "cell_type": "markdown",
   "metadata": {},
   "source": [
    "# part 2"
   ]
  },
  {
   "cell_type": "markdown",
   "metadata": {},
   "source": [
    "- Create a new DataFrame with 3 columns: fare, class, embark_town.  \n",
    "- Clean your data from all `NaN` values.  \n",
    "- Sort your DataFrame by fare in decreasing order.  \n",
    "- Sort the same data frame in alphabetical order of the embarked_town."
   ]
  },
  {
   "cell_type": "code",
   "execution_count": null,
   "metadata": {},
   "outputs": [],
   "source": [
    "# your code here"
   ]
  },
  {
   "cell_type": "markdown",
   "metadata": {},
   "source": [
    "Create a new DataFrame that holds all entries with classes 2 or 3.  Plot the histogram of classes 2 and 3.\n",
    "In pandas `&` corresponds to logical `and`, and `|` corresponds to logical `or`"
   ]
  },
  {
   "cell_type": "code",
   "execution_count": null,
   "metadata": {},
   "outputs": [],
   "source": [
    "# your code here"
   ]
  },
  {
   "cell_type": "markdown",
   "metadata": {},
   "source": [
    "Customize row indices such that indices are according to embarked town, drop all `NaN` values, and sort in alphabetical order of embarked town. "
   ]
  },
  {
   "cell_type": "code",
   "execution_count": null,
   "metadata": {},
   "outputs": [],
   "source": [
    "# your code here"
   ]
  },
  {
   "cell_type": "markdown",
   "metadata": {},
   "source": [
    "Let's aggregate data into groups\n",
    "- get the number of entries from each class (i.e. pclass column in csv file). How many people are in first class, how many in second class and how many in third? \n",
    "- get number of entries from each town.  There are a total of how many towns that people embarked from? \n",
    "- get general summary of each class, round the date to 2 decimal places and display your data such that the three classes are shown as columns\n",
    "- get the number of suvivors and non-survivors in each class. \n",
    "- show full DataFrame of how many children, women and men are in each of the three classes. \n",
    "- plot women, men, children according to class"
   ]
  },
  {
   "cell_type": "code",
   "execution_count": null,
   "metadata": {},
   "outputs": [],
   "source": [
    "# your code here\n"
   ]
  },
  {
   "cell_type": "markdown",
   "metadata": {},
   "source": [
    "plot a bar graph with the number of children, women and men for each class of ticket"
   ]
  },
  {
   "cell_type": "code",
   "execution_count": null,
   "metadata": {},
   "outputs": [],
   "source": [
    "# your code here"
   ]
  }
 ],
 "metadata": {
  "kernelspec": {
   "display_name": "Python 3",
   "language": "python",
   "name": "python3"
  },
  "language_info": {
   "codemirror_mode": {
    "name": "ipython",
    "version": 3
   },
   "file_extension": ".py",
   "mimetype": "text/x-python",
   "name": "python",
   "nbconvert_exporter": "python",
   "pygments_lexer": "ipython3",
   "version": "3.12.2"
  }
 },
 "nbformat": 4,
 "nbformat_minor": 2
}
