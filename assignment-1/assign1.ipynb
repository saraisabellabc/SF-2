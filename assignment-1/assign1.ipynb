{
 "cells": [
  {
   "cell_type": "markdown",
   "metadata": {},
   "source": [
    "**420-SF2-RE: DS & OOP**\n",
    "\n",
    "**February 12, 2025**"
   ]
  },
  {
   "cell_type": "markdown",
   "metadata": {
    "id": "N6II8MIXzWb_"
   },
   "source": [
    "# Assignment #1: drag with coffee filters\n",
    "\n",
    "For this assignment you will be allowed to use everything that has been covered in class regarding data science libraries.  **Any functions not covered in class will not be allowed to be used and will receive a grade of 0**. \n",
    "\n",
    "${\\color{red}\\text{You should not be making any direct changes to your .csv files.}}\\\\$\n",
    "${\\color{red}\\text{All changes done in this assignment must be done using Python code.}}$"
   ]
  },
  {
   "cell_type": "markdown",
   "metadata": {
    "id": "aXhJ4WgS0FD_"
   },
   "source": [
    "## Part 1: experiment with single coffee filter, 10 runs\n",
    "**Part 1 DUE DATE: end of class today**\n",
    "\n",
    "**Part 1 is worth 60% of Assignment #1**\n",
    "\n",
    "**Part 1 of the assignment is an in-class assignment.  Failure to be in class will receive a grade of 0 for Part 1 of the assignment and late submissions will not be accepted.**\n",
    "\n",
    "\n",
    "#### Submission: \n",
    "- Upload all new and updated files to moodle under ${\\color{green}\\text{Assignment \\#1}}$\n",
    "- `add`, `commit`, `push` all new and updated files to ${\\color{green}\\text{git}}$ in your **Assignment #1** folder\n",
    "- Late submissions of Part 1 (that is, submissions outside of class) will receive a ${\\color{red}\\text{late penalty}}$. Part 1 may not be submitted later than **Wendesday, February 12 ay 23:59**.\n",
    "\n",
    "#### Instructions for Part 1:"
   ]
  },
  {
   "cell_type": "markdown",
   "metadata": {
    "id": "RgEFBfN90KAX"
   },
   "source": [
    "1. Import all necessary libraries, such as `pandas`, `matplotlib.pyplot`, `numpy`, etc."
   ]
  },
  {
   "cell_type": "code",
   "execution_count": null,
   "metadata": {
    "executionInfo": {
     "elapsed": 3047,
     "status": "ok",
     "timestamp": 1738341759650,
     "user": {
      "displayName": "JF Briere",
      "userId": "02263993062889206334"
     },
     "user_tz": 300
    },
    "id": "7JvBcS_HJ4G_"
   },
   "outputs": [],
   "source": [
    "# your code for step 1 goes here:"
   ]
  },
  {
   "cell_type": "markdown",
   "metadata": {
    "id": "ZT-WBG4tzGEd"
   },
   "source": [
    "2. Read  your `.csv` file that has the data of the single filter experiment into a DataFrame called `df`\n",
    "3. Display the content of the data frame to the screen"
   ]
  },
  {
   "cell_type": "code",
   "execution_count": null,
   "metadata": {
    "executionInfo": {
     "elapsed": 2727,
     "status": "ok",
     "timestamp": 1738341764079,
     "user": {
      "displayName": "JF Briere",
      "userId": "02263993062889206334"
     },
     "user_tz": 300
    },
    "id": "1H1UmrDtJqM5"
   },
   "outputs": [],
   "source": [
    "# your code for steps 2 and 3 go here:"
   ]
  },
  {
   "cell_type": "markdown",
   "metadata": {
    "id": "Z6zLGqd5pXS6"
   },
   "source": [
    "4. Extract from the DataFrame `df` into a new DataFrame `data_df` only the **Time** and **Position** columns for the 10 runs.  Here are the details of how your `data_df` should look: \n",
    "- Time column titles should read: **Time (s) Run #$i$** for $0\\leq i\\leq 10$\n",
    "- Position column titles should read: **Position (m) Run #$i$** for $0\\leq i\\leq 10$\n",
    "- The order of the columns in your `data_df` should first display all the **Time** columns then all the **Position** columns.  \n",
    "- all NaN values should be dropped from `data_df`\n",
    "Note that this process should be automated.  You **should not** manually adjust the content of the `data_df` for each run. \n",
    "5. Display the content of `data_df`"
   ]
  },
  {
   "cell_type": "code",
   "execution_count": null,
   "metadata": {},
   "outputs": [],
   "source": [
    "# Your code for steps 4 and 5 go here:"
   ]
  },
  {
   "cell_type": "markdown",
   "metadata": {},
   "source": [
    "6. The data in `data_df` contains noisy data.  In this step you are to clean the noisy data (or extract the clean data). Your cleaned data **for each run**\n",
    "- must not include the data that is after once the filter hits the motion sensor\n",
    "- must include the curved data that transitions into a drop in position.  You should only keep about 0.5 to 1 second of the roughly constant position values before the drop of position takes place.  \n",
    "Note that you should clean your data for each of the 10 runs and you should automate this process in your code with logical conditions, loops, etc.\n",
    "\n",
    "7. Store your clean data into a new DataFrame called `clean_df`. \n",
    "8. Note that now that the values in the **Time** columns may have shifted due to the clean-up.  Update your `clean_df` to rescale all the **Time** columns to start the time from 0.0 in increments of 0.02. \n",
    "9. Write this to a new .csv file called `\"clean_data_single_filter.csv\"`. "
   ]
  },
  {
   "cell_type": "code",
   "execution_count": null,
   "metadata": {},
   "outputs": [],
   "source": [
    "# Your code for steps 6-9 go here:"
   ]
  },
  {
   "cell_type": "markdown",
   "metadata": {},
   "source": [
    "10. Plot the data using `matplotlib` from all 10 runs as scatter plots on the same figure using your cleaned data.  \n",
    "- Each plot should have a label **Run #$i$** for $1\\leq i\\leq10$\n",
    "- The label on the x-axis should read **Time (s)**\n",
    "- The label on the y-axis should read **Position (m)**\n",
    "- Each plot should be in a different color and there should be a legend showing which colour is which run. \n",
    "- scale the size of the points so that they are not too big.  \n",
    "Note that you should automate the process of plotting the 10 graphs.\n",
    "\n",
    "11. Take the last 0.5 to 1 second of the x-values in your 10 runs, and draw a line of best fit on all your 10 graphs. "
   ]
  },
  {
   "cell_type": "code",
   "execution_count": null,
   "metadata": {},
   "outputs": [],
   "source": [
    "# Your code for steps 10-11 go here:"
   ]
  },
  {
   "cell_type": "markdown",
   "metadata": {},
   "source": [
    "### ${\\color{green} \\text{Submit your work to moodle and git for Part 1 before moving to Part 2}}$"
   ]
  },
  {
   "cell_type": "markdown",
   "metadata": {},
   "source": [
    "## Part 2: experiment with multiple coffee filters, 10 runs\n",
    "**Part 2 DUE DATE: Friday, February 14 at 20:00**\n",
    "\n",
    "**Part 2 is worth 40% of Assignment #1**\n",
    "\n",
    "#### Submission:\n",
    "- Upload all new and updated files to moodle under ${\\color{green}\\text{Assignment \\#1}}$.  Make sure to not delete or overwrite any files during your previous submissions.  \n",
    "- `add`, `commit`, `push` all new and updated files to ${\\color{green}\\text{git}}$ in your **Assignment #1** folder\n",
    "- late submissions of Part 2 will receive a grade of 0.\n",
    "\n",
    "\n",
    "#### Instructions for Part 2:"
   ]
  },
  {
   "cell_type": "markdown",
   "metadata": {},
   "source": [
    "1. Read  your .csv file that has the data of filters of varying mass into a DataFrame `df`.  \n",
    "3. Display the content of the DataFrame to the screen"
   ]
  },
  {
   "cell_type": "code",
   "execution_count": null,
   "metadata": {},
   "outputs": [],
   "source": [
    "# Your code for steps 1 and 2 go here:"
   ]
  },
  {
   "cell_type": "markdown",
   "metadata": {},
   "source": [
    "3. Extract from the DataFrame `df` into a new DataFrame `data_df` only the **Time** and **Position** columns for the 10 runs.  Here are the details of how your `data_df` should look: \n",
    "- Time column titles should read: **Time (s) Run #$i$** for $0\\leq i\\leq 10$\n",
    "- Position column titles should read: **Position (m) Run #$i$** for $0\\leq i\\leq 10$\n",
    "- The order of the columns in your `data_df` should first display all the **Time** columns then all the **Position** columns.  \n",
    "- all NaN values should be dropped from `data_df`\n",
    "Note that this process should be automated.\n",
    "4. Display the content of `data_df`"
   ]
  },
  {
   "cell_type": "code",
   "execution_count": null,
   "metadata": {},
   "outputs": [],
   "source": [
    "# Your code for steps 3 and 4 go here:"
   ]
  },
  {
   "cell_type": "markdown",
   "metadata": {},
   "source": [
    "5. The data in `data_df` contains noisy data.  In this step you are to clean the noisy data (or extract the clean data). Your cleaned data **for each run**\n",
    "- must not include the data that is after once the filter hits the motion sensor\n",
    "- must include only the bit where a drop in position starts.  You should not include any constant position values before the drop of positions takes place.    \n",
    "Note that you should clean your data for each of the 10 runs and you should automate this process in your code with logical conditions, loops, etc.\n",
    "6. Store your clean data into a new DataFrame called `clean_df`. \n",
    "7. Note that now that the values in the **Time** columns may have shifted due to the clean-up.  Update your `clean_df` to rescale all the **Time** columns to start the time from 0.0 in increments of 0.02. \n",
    "8. Write this to a new .csv file called `\"clean_data_multiple_filter.csv\"`. "
   ]
  },
  {
   "cell_type": "code",
   "execution_count": null,
   "metadata": {},
   "outputs": [],
   "source": [
    "# Your code for steps 5-8 go here:"
   ]
  },
  {
   "cell_type": "markdown",
   "metadata": {},
   "source": [
    "9. Plot the data from all 10 runs as line plots on the same figure using your cleaned data.  \n",
    "- Each plot should have a label **Run #$i$** for $1\\leq i\\leq10$\n",
    "- The label on the x-axis should read **Time (s)**\n",
    "- The label on the y-axis should read **Position (m)**\n",
    "- Each plot should be in a different color and there should be a legend showing which colour is which run.  "
   ]
  },
  {
   "cell_type": "code",
   "execution_count": null,
   "metadata": {},
   "outputs": [],
   "source": [
    "# Your code for step 9 goes here:"
   ]
  }
 ],
 "metadata": {
  "colab": {
   "authorship_tag": "ABX9TyMMuFsKiAtuHaBS30ZkU0Df",
   "provenance": [
    {
     "file_id": "1Gxp7JMZM1b00ldRL8cKDXzCxKR-K8aSg",
     "timestamp": 1729558277981
    },
    {
     "file_id": "11WNkrKJamImYRu62uiHMTfrE64xWg9wI",
     "timestamp": 1729275444949
    }
   ]
  },
  "kernelspec": {
   "display_name": "Python 3",
   "name": "python3"
  },
  "language_info": {
   "codemirror_mode": {
    "name": "ipython",
    "version": 3
   },
   "file_extension": ".py",
   "mimetype": "text/x-python",
   "name": "python",
   "nbconvert_exporter": "python",
   "pygments_lexer": "ipython3",
   "version": "3.12.2"
  }
 },
 "nbformat": 4,
 "nbformat_minor": 0
}
